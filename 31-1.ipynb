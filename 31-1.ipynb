{
 "cells": [
  {
   "cell_type": "code",
   "execution_count": 5,
   "metadata": {},
   "outputs": [
    {
     "name": "stdout",
     "output_type": "stream",
     "text": [
      "No. of evens =  50\n",
      "No. of odds =  50\n"
     ]
    }
   ],
   "source": [
    "e,o=0,0\n",
    "for i in range(1,101):\n",
    "    if i%2==0:\n",
    "        e+=1\n",
    "    else:\n",
    "        o+=1\n",
    "print(\"No. of evens = \",e)\n",
    "print(\"No. of odds = \",o)"
   ]
  },
  {
   "cell_type": "code",
   "execution_count": 10,
   "metadata": {},
   "outputs": [
    {
     "name": "stdout",
     "output_type": "stream",
     "text": [
      "No. of no.s divisible by 5 and 7 =  283\n"
     ]
    }
   ],
   "source": [
    "c=0\n",
    "for x in range(100,10000):\n",
    "    if (x%5==0 and x%7==0) or x%35==0:\n",
    "        c+=1\n",
    "print(\"No. of no.s divisible by 5 and 7 = \",c)"
   ]
  },
  {
   "cell_type": "code",
   "execution_count": 7,
   "metadata": {},
   "outputs": [
    {
     "name": "stdout",
     "output_type": "stream",
     "text": [
      "2 4 5 10 "
     ]
    }
   ],
   "source": [
    "no = int(input(\"Enter the no.: \"))\n",
    "for x in range(2,(no//2)+1):\n",
    "    if no%x==0:\n",
    "        print(x , end=\" \")"
   ]
  },
  {
   "cell_type": "code",
   "execution_count": 18,
   "metadata": {},
   "outputs": [
    {
     "name": "stdout",
     "output_type": "stream",
     "text": [
      "7\n",
      "No. of prime no.s in range =  3\n"
     ]
    }
   ],
   "source": [
    "s= int(input(\"Enter the starting no.: \"))\n",
    "e= int(input(\"Enter the ending no.: \"))\n",
    "c=(e-s)+1\n",
    "print(c)\n",
    "for x in range(s,e+1):\n",
    "    if x<3:\n",
    "        c-=1\n",
    "        continue\n",
    "    for i in range(2,(x//2)+1):\n",
    "        if x%i==0:\n",
    "            c-=1\n",
    "            break\n",
    "print(\"No. of prime no.s in range = \",c)"
   ]
  },
  {
   "cell_type": "code",
   "execution_count": 1,
   "metadata": {},
   "outputs": [
    {
     "name": "stdout",
     "output_type": "stream",
     "text": [
      "3\n"
     ]
    }
   ],
   "source": [
    "no = int(input(\"Enter the no.: \"))\n",
    "a=0\n",
    "while no>0:\n",
    "    a+=1\n",
    "    no=no//10\n",
    "print(a)"
   ]
  },
  {
   "cell_type": "code",
   "execution_count": null,
   "metadata": {},
   "outputs": [
    {
     "name": "stdout",
     "output_type": "stream",
     "text": [
      "Welcome\n"
     ]
    }
   ],
   "source": [
    "username=input(\"enter username: \")\n",
    "counter=0\n",
    "while True:\n",
    "    counter+=1\n",
    "    if username==\"l@633\":\n",
    "        print(\"Welcome\", username)\n",
    "        break\n",
    "    elif counter!=3:\n",
    "        print(\"Invalid\")\n",
    "    else:\n",
    "        print(\"Wait for 30 min\")\n",
    "        counter=0"
   ]
  },
  {
   "cell_type": "code",
   "execution_count": 7,
   "metadata": {},
   "outputs": [
    {
     "name": "stdout",
     "output_type": "stream",
     "text": [
      "1\n",
      "2\n",
      "3\n",
      "4\n",
      "Hi\n"
     ]
    }
   ],
   "source": [
    "i=1\n",
    "while (i<5):\n",
    "    print(i)\n",
    "    i+=1\n",
    "else:\n",
    "    print(\"Hi\")"
   ]
  },
  {
   "cell_type": "code",
   "execution_count": 8,
   "metadata": {},
   "outputs": [
    {
     "name": "stdout",
     "output_type": "stream",
     "text": [
      "1\n",
      "2\n"
     ]
    }
   ],
   "source": [
    "i=1\n",
    "while (i<5):\n",
    "    print(i)\n",
    "    i+=1\n",
    "    if i==3:\n",
    "        break\n",
    "else:\n",
    "    print(\"Hi\")"
   ]
  },
  {
   "cell_type": "code",
   "execution_count": 9,
   "metadata": {},
   "outputs": [
    {
     "ename": "SyntaxError",
     "evalue": "invalid syntax (71506038.py, line 1)",
     "output_type": "error",
     "traceback": [
      "\u001b[1;36m  Cell \u001b[1;32mIn[9], line 1\u001b[1;36m\u001b[0m\n\u001b[1;33m    else:\u001b[0m\n\u001b[1;37m    ^\u001b[0m\n\u001b[1;31mSyntaxError\u001b[0m\u001b[1;31m:\u001b[0m invalid syntax\n"
     ]
    }
   ],
   "source": [
    "else:\n",
    "    print(\"hi\")"
   ]
  },
  {
   "cell_type": "code",
   "execution_count": 28,
   "metadata": {},
   "outputs": [
    {
     "name": "stdout",
     "output_type": "stream",
     "text": [
      "[3, 2, 1, 'hello', 67.3]\n",
      "67.3\n",
      "67.3\n",
      "[3, 2, 2, 'hello', 67.3, 900]\n",
      "2\n",
      "2\n",
      "140727612021208\n",
      "140727612021208\n",
      "[3, 2, 2, 'hello', 67.3, 900]\n",
      "<class 'list'>\n"
     ]
    }
   ],
   "source": [
    "l=[3,2,1,'hello',67.3]\n",
    "print(l)\n",
    "print(l[4])\n",
    "print(l[-1])\n",
    "del(l[2])\n",
    "l.append(900)\n",
    "l.insert(2,2)\n",
    "print(l)\n",
    "print(l[2])\n",
    "print(l[1])\n",
    "print(id(l[1]))\n",
    "print(id(l[2]))\n",
    "print(l)\n",
    "print(type(l))"
   ]
  },
  {
   "cell_type": "code",
   "execution_count": 29,
   "metadata": {},
   "outputs": [
    {
     "data": {
      "text/plain": [
       "[3, 2, 2, 'hello', 67.3, 900, 'lol']"
      ]
     },
     "execution_count": 29,
     "metadata": {},
     "output_type": "execute_result"
    }
   ],
   "source": [
    "l.insert(1000,\"lol\")\n",
    "l"
   ]
  },
  {
   "cell_type": "code",
   "execution_count": 35,
   "metadata": {},
   "outputs": [
    {
     "data": {
      "text/plain": [
       "['lol', 900, 67.3, 'hello', 2, 2, 3]"
      ]
     },
     "execution_count": 35,
     "metadata": {},
     "output_type": "execute_result"
    }
   ],
   "source": [
    "l.reverse()\n",
    "l"
   ]
  },
  {
   "cell_type": "code",
   "execution_count": 39,
   "metadata": {},
   "outputs": [
    {
     "name": "stdout",
     "output_type": "stream",
     "text": [
      "2400788343232\n",
      "2400788343232\n",
      "[1, 2, 3, 4]\n",
      "[1, 2, 3, 4]\n",
      "2400788343168\n",
      "2400788343232\n"
     ]
    }
   ],
   "source": [
    "l1=[1,2,3]\n",
    "l2=l1\n",
    "print(id(l1))\n",
    "print(id(l2))\n",
    "l2.append(4)\n",
    "print(l1)\n",
    "print(l2)\n",
    "l3=l2.copy()\n",
    "print(id(l3))\n",
    "print(id(l2))"
   ]
  },
  {
   "cell_type": "code",
   "execution_count": 48,
   "metadata": {},
   "outputs": [
    {
     "name": "stdout",
     "output_type": "stream",
     "text": [
      "[2, 3, 4]\n",
      "[1, 2, 3, 4]\n",
      "[4]\n",
      "[1, 3, 5, 7, 9]\n",
      "[9, 7, 5, 3, 1]\n"
     ]
    }
   ],
   "source": [
    "# slice\n",
    "l=[1,2,3,4,5,6,7,8,9]\n",
    "print(l1[1:4])\n",
    "print(l1[:4])\n",
    "print(l1[3:])\n",
    "print(l[::2])\n",
    "print(l[::-2])"
   ]
  },
  {
   "cell_type": "code",
   "execution_count": null,
   "metadata": {},
   "outputs": [
    {
     "name": "stdout",
     "output_type": "stream",
     "text": [
      "[45, 54, 19, 21] 19\n",
      "[45, 54, 19, 21] 21\n"
     ]
    }
   ],
   "source": [
    "s1=[45,54,19,21]\n",
    "s2=[47,84,39,91]\n",
    "s3=[85,44,49,41]\n",
    "s=[s1,s2,s3]\n",
    "for x in s:\n",
    "    for y in x:\n",
    "        if y<35:\n",
    "            print(x,y)"
   ]
  },
  {
   "cell_type": "code",
   "execution_count": 52,
   "metadata": {},
   "outputs": [
    {
     "data": {
      "text/plain": [
       "[0, 1, 2, 3, 4, 5, 6, 7, 8, 9]"
      ]
     },
     "execution_count": 52,
     "metadata": {},
     "output_type": "execute_result"
    }
   ],
   "source": [
    "l=[x for x in range(10)]\n",
    "l"
   ]
  },
  {
   "cell_type": "code",
   "execution_count": null,
   "metadata": {},
   "outputs": [
    {
     "ename": "ValueError",
     "evalue": "not enough values to unpack (expected at least 3, got 2)",
     "output_type": "error",
     "traceback": [
      "\u001b[1;31m---------------------------------------------------------------------------\u001b[0m",
      "\u001b[1;31mValueError\u001b[0m                                Traceback (most recent call last)",
      "Cell \u001b[1;32mIn[56], line 3\u001b[0m\n\u001b[0;32m      1\u001b[0m \u001b[38;5;66;03m# packing and unpacking\u001b[39;00m\n\u001b[0;32m      2\u001b[0m l\u001b[38;5;241m=\u001b[39m[[\u001b[38;5;124m\"\u001b[39m\u001b[38;5;124mLakshay\u001b[39m\u001b[38;5;124m\"\u001b[39m,\u001b[38;5;241m22\u001b[39m,\u001b[38;5;241m91\u001b[39m,\u001b[38;5;241m92\u001b[39m,\u001b[38;5;241m93\u001b[39m,\u001b[38;5;241m94\u001b[39m,\u001b[38;5;241m95\u001b[39m,\u001b[38;5;241m633\u001b[39m],[\u001b[38;5;124m\"\u001b[39m\u001b[38;5;124mLakshay\u001b[39m\u001b[38;5;124m\"\u001b[39m,\u001b[38;5;241m22\u001b[39m,\u001b[38;5;241m91\u001b[39m,\u001b[38;5;241m92\u001b[39m,\u001b[38;5;241m93\u001b[39m,\u001b[38;5;241m94\u001b[39m,\u001b[38;5;241m95\u001b[39m,\u001b[38;5;241m633\u001b[39m]] \u001b[38;5;66;03m#packing\u001b[39;00m\n\u001b[1;32m----> 3\u001b[0m name,age,\u001b[38;5;241m*\u001b[39mmarks,dob\u001b[38;5;241m=\u001b[39ml               \u001b[38;5;66;03m#unpacking=> * will autoadjust just to allot all variables 1 value and rest to marks in order\u001b[39;00m\n\u001b[0;32m      4\u001b[0m \u001b[38;5;28mprint\u001b[39m(name,age,marks,dob)\n",
      "\u001b[1;31mValueError\u001b[0m: not enough values to unpack (expected at least 3, got 2)"
     ]
    }
   ],
   "source": [
    "# packing and unpacking\n",
    "l=[\"Lakshay\",22,91,92,93,94,95,633] #packing\n",
    "name,age,*marks,dob=l               #unpacking=> * will autoadjust just to allot all variables 1 value and rest to marks in order\n",
    "print(name,age,marks,dob)"
   ]
  },
  {
   "cell_type": "code",
   "execution_count": 61,
   "metadata": {},
   "outputs": [
    {
     "name": "stdout",
     "output_type": "stream",
     "text": [
      "[1, 2, 3, 45, 5, 4, 8, 7, 9]\n"
     ]
    }
   ],
   "source": [
    "l = [1, 1, 2, 2, 3, 45, 45, 5, 5, 5, 4, 8, 7, 9]\n",
    "u = []\n",
    "for i in l:\n",
    "    if i not in u:\n",
    "        u.append(i)\n",
    "\n",
    "print(u)"
   ]
  },
  {
   "cell_type": "code",
   "execution_count": 64,
   "metadata": {},
   "outputs": [
    {
     "data": {
      "text/plain": [
       "(1, 2, 3, [1, 2, 3])"
      ]
     },
     "execution_count": 64,
     "metadata": {},
     "output_type": "execute_result"
    }
   ],
   "source": [
    "# TUPLE\n",
    "t1=(1,2,3,[1,2,4])\n",
    "# t1[1]=4       no no no\n",
    "t1[3][2]=3      #yes\n",
    "t1"
   ]
  },
  {
   "cell_type": "code",
   "execution_count": 65,
   "metadata": {},
   "outputs": [
    {
     "data": {
      "text/plain": [
       "{'Name': 'Lakshay', 'Age': 22}"
      ]
     },
     "execution_count": 65,
     "metadata": {},
     "output_type": "execute_result"
    }
   ],
   "source": [
    "# DICTIONARY \n",
    "d={'Name':\"Laky\",'Age':22,'Name':'Lakshay'}     # values can be duplicate ... if key is duplicate then \n",
    "d"
   ]
  },
  {
   "cell_type": "code",
   "execution_count": 82,
   "metadata": {},
   "outputs": [
    {
     "data": {
      "text/plain": [
       "{'name': None, 'age': None, 'place': None}"
      ]
     },
     "execution_count": 82,
     "metadata": {},
     "output_type": "execute_result"
    }
   ],
   "source": [
    "keys=['name','age','place']\n",
    "val=['Lakshay',22,'Roorkee']\n",
    "d2 = {}.fromkeys(keys)\n",
    "d2"
   ]
  },
  {
   "cell_type": "code",
   "execution_count": 93,
   "metadata": {},
   "outputs": [
    {
     "name": "stdout",
     "output_type": "stream",
     "text": [
      "{'name': 'Lakshay', 'age': 22, 'place': 'Roorkee'}\n"
     ]
    },
    {
     "data": {
      "text/plain": [
       "{'name': 'Lakshay', 'age': 22, 'place': 'Roorkee'}"
      ]
     },
     "execution_count": 93,
     "metadata": {},
     "output_type": "execute_result"
    }
   ],
   "source": [
    "for i in range(len(keys)):  \n",
    "    d2[keys[i]] = val[i]\n",
    "\n",
    "print(d2)\n",
    "d3=dict(zip(keys,val))\n",
    "d3"
   ]
  },
  {
   "cell_type": "code",
   "execution_count": 86,
   "metadata": {},
   "outputs": [
    {
     "data": {
      "text/plain": [
       "{'a': 20, 'b': 40, 'c': 60}"
      ]
     },
     "execution_count": 86,
     "metadata": {},
     "output_type": "execute_result"
    }
   ],
   "source": [
    "d={'a':10,'b':20,'c':30}\n",
    "d1={k:v*2 for(k,v) in d.items()}\n",
    "d1"
   ]
  },
  {
   "cell_type": "code",
   "execution_count": 90,
   "metadata": {},
   "outputs": [
    {
     "data": {
      "text/plain": [
       "{0: 0, 1: 2, 2: 4, 3: 6, 4: 8, 5: 10, 6: 12, 7: 14, 8: 16, 9: 18, 10: 20}"
      ]
     },
     "execution_count": 90,
     "metadata": {},
     "output_type": "execute_result"
    }
   ],
   "source": [
    "d={k:k*2 for k in range(11)}\n",
    "d"
   ]
  },
  {
   "cell_type": "code",
   "execution_count": 94,
   "metadata": {},
   "outputs": [
    {
     "data": {
      "text/plain": [
       "{'d1': {'Name': 'A', 'No.': 1, 'Skills': ['c', 'c++']},\n",
       " 'd2': {'Name': 'B', 'No.': 2, 'Skills': ['c', 'python']},\n",
       " 'd3': {'Name': 'C', 'No.': 3, 'Skills': ['java', 'python']}}"
      ]
     },
     "execution_count": 94,
     "metadata": {},
     "output_type": "execute_result"
    }
   ],
   "source": [
    "d1={'Name':'A','No.':1,'Skills':['c','c++']}\n",
    "d2={'Name':'B','No.':2,'Skills':['c','python']}\n",
    "d3={'Name':'C','No.':3,'Skills':['java','python']}\n",
    "keys=[\"d1\",'d2','d3']\n",
    "val=[d1,d2,d3]\n",
    "d=dict(zip(keys,val))\n",
    "d"
   ]
  },
  {
   "cell_type": "code",
   "execution_count": 100,
   "metadata": {},
   "outputs": [
    {
     "name": "stdout",
     "output_type": "stream",
     "text": [
      "d2\n",
      "d3\n"
     ]
    }
   ],
   "source": [
    "for k,v in d.items():\n",
    "    if 'python' in v['Skills']:\n",
    "        print(k)"
   ]
  },
  {
   "cell_type": "code",
   "execution_count": 102,
   "metadata": {},
   "outputs": [
    {
     "name": "stdout",
     "output_type": "stream",
     "text": [
      "<class 'dict'>\n",
      "<class 'set'>\n"
     ]
    }
   ],
   "source": [
    "# SET\n",
    "s={}\n",
    "print(type(s))\n",
    "s={2}\n",
    "print(type(s))"
   ]
  },
  {
   "cell_type": "code",
   "execution_count": 103,
   "metadata": {},
   "outputs": [
    {
     "name": "stdout",
     "output_type": "stream",
     "text": [
      "{2, 4}\n"
     ]
    }
   ],
   "source": [
    "s1={1,2,3,4}\n",
    "s2={2,4,6,8}\n",
    "print(s1.intersection(s2))"
   ]
  },
  {
   "cell_type": "code",
   "execution_count": null,
   "metadata": {},
   "outputs": [],
   "source": [
    "a=1\n",
    "if a==1:\n",
    "    a=2\n",
    "elif a==2:\n",
    "    a=3\n",
    "a"
   ]
  }
 ],
 "metadata": {
  "kernelspec": {
   "display_name": "Python 3",
   "language": "python",
   "name": "python3"
  },
  "language_info": {
   "codemirror_mode": {
    "name": "ipython",
    "version": 3
   },
   "file_extension": ".py",
   "mimetype": "text/x-python",
   "name": "python",
   "nbconvert_exporter": "python",
   "pygments_lexer": "ipython3",
   "version": "3.12.3"
  }
 },
 "nbformat": 4,
 "nbformat_minor": 2
}
