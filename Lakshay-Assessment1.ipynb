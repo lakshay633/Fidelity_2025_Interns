{
 "cells": [
  {
   "cell_type": "markdown",
   "metadata": {},
   "source": [
    "Lakshay Agarwal\n",
    "\n",
    "A785385\n",
    "\n",
    "633lakshay@gmail.com"
   ]
  },
  {
   "cell_type": "markdown",
   "metadata": {},
   "source": [
    "7."
   ]
  },
  {
   "cell_type": "code",
   "execution_count": 5,
   "metadata": {},
   "outputs": [
    {
     "name": "stdout",
     "output_type": "stream",
     "text": [
      "Lakshay 101 ETS\n",
      "None\n"
     ]
    }
   ],
   "source": [
    "class Employee:\n",
    "    def __init__(self,name,id,dept):\n",
    "        self.name=name\n",
    "        self.id=id\n",
    "        self.dept=dept\n",
    "    def dsp(self):\n",
    "        print(self.name,self.id,self.dept)\n",
    "\n",
    "class Department(Employee):\n",
    "    def __init__(self,name,id,dept,deptname,departid):\n",
    "        super().__init__(name,id,dept)\n",
    "        self.deptname=deptname\n",
    "        self.departid=departid\n",
    "\n",
    "person=Department(\"Lakshay\",101,\"ETS\",\"ABC\",5)\n",
    "print(person.dsp())"
   ]
  },
  {
   "cell_type": "markdown",
   "metadata": {},
   "source": [
    "8."
   ]
  },
  {
   "cell_type": "code",
   "execution_count": 22,
   "metadata": {},
   "outputs": [
    {
     "name": "stdout",
     "output_type": "stream",
     "text": [
      "bubble_sort took time=0.073204seconds\n",
      "The element is at index: 975\n",
      "seq_search took time=0.000000seconds\n"
     ]
    },
    {
     "data": {
      "text/plain": [
       "975"
      ]
     },
     "execution_count": 22,
     "metadata": {},
     "output_type": "execute_result"
    }
   ],
   "source": [
    "import time\n",
    "\n",
    "def time_decorator(fun):\n",
    "    def wrapper(*args,**kwargs):\n",
    "        start=time.time()\n",
    "        result=fun(*args,**kwargs)\n",
    "        end=time.time()\n",
    "        print(f\"{fun.__name__} took time={(end-start):.6f}seconds\")\n",
    "        return result\n",
    "    return wrapper\n",
    "\n",
    "@time_decorator\n",
    "def seq_search(l,ele):\n",
    "    for i in range(len(l)):\n",
    "        if l[i]==ele:\n",
    "            print(\"The element is at index:\",i)\n",
    "            return i\n",
    "    print(\"Element not found\")\n",
    "    return -1\n",
    "\n",
    "@time_decorator\n",
    "def bubble_sort(l):\n",
    "    l=l[:]\n",
    "    n=len(l)\n",
    "    for i in range(n):\n",
    "        for j in range(n-1-i):\n",
    "            if l[j]>l[j+1]:\n",
    "                l[j],l[j+1]=l[j+1],l[j]\n",
    "    return l\n",
    "\n",
    "l=[x for x in range(1000,1,-1)]\n",
    "sorted_list=bubble_sort(l)\n",
    "# print(\"Sorted list:\",sorted_list)\n",
    "seq_search(l,25)"
   ]
  },
  {
   "cell_type": "markdown",
   "metadata": {},
   "source": [
    "9."
   ]
  },
  {
   "cell_type": "code",
   "execution_count": 10,
   "metadata": {},
   "outputs": [
    {
     "name": "stdout",
     "output_type": "stream",
     "text": [
      "2\n"
     ]
    }
   ],
   "source": [
    "from re import *\n",
    "with open(\"data2.txt\",\"r\") as f:\n",
    "    l=f.read()\n",
    "x=findall(\"fidelity\",l)\n",
    "print(len(x))"
   ]
  },
  {
   "cell_type": "markdown",
   "metadata": {},
   "source": [
    "10."
   ]
  },
  {
   "cell_type": "code",
   "execution_count": 23,
   "metadata": {},
   "outputs": [
    {
     "name": "stdout",
     "output_type": "stream",
     "text": [
      "['a', 'b', 'c']\n",
      "[1, 2, 3]\n"
     ]
    }
   ],
   "source": [
    "class Conv:\n",
    "    def __init__(self,d):\n",
    "        self.d=d\n",
    "        self.keys=[]\n",
    "        self.vals=[]\n",
    "    def c(self):    \n",
    "        for k,v in self.d.items():\n",
    "            self.keys.append(k)\n",
    "            self.vals.append(v)\n",
    "\n",
    "d={'a':1,'b':2,'c':3}\n",
    "obj=Conv(d)\n",
    "obj.c()\n",
    "print(obj.keys)\n",
    "print(obj.vals)\n"
   ]
  },
  {
   "cell_type": "markdown",
   "metadata": {},
   "source": [
    "11."
   ]
  },
  {
   "cell_type": "code",
   "execution_count": 32,
   "metadata": {},
   "outputs": [
    {
     "name": "stdout",
     "output_type": "stream",
     "text": [
      "[('10-10-2020', '-189829822'), ('10-09-2020', '-356546565')]\n"
     ]
    }
   ],
   "source": [
    "import re\n",
    "\n",
    "def fin(f):\n",
    "    with open(f, \"r\") as x:\n",
    "        l = x.readlines()\n",
    "    t = []\n",
    "    for i in l:\n",
    "        p = i.strip()\n",
    "        match = re.search(r\"(\\d{2}-\\d{2}-\\d{4})\\s([-]?\\d+)\\s([SP])$\", p)\n",
    "        if match:\n",
    "            d, id, _ = match.groups()\n",
    "            t.append((d, id))\n",
    "    return t\n",
    "\n",
    "r = fin(\"data1.txt\")\n",
    "print(r)"
   ]
  }
 ],
 "metadata": {
  "kernelspec": {
   "display_name": "Python 3",
   "language": "python",
   "name": "python3"
  },
  "language_info": {
   "codemirror_mode": {
    "name": "ipython",
    "version": 3
   },
   "file_extension": ".py",
   "mimetype": "text/x-python",
   "name": "python",
   "nbconvert_exporter": "python",
   "pygments_lexer": "ipython3",
   "version": "3.12.3"
  }
 },
 "nbformat": 4,
 "nbformat_minor": 2
}
