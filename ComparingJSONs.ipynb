{
 "cells": [
  {
   "cell_type": "code",
   "execution_count": 3,
   "metadata": {},
   "outputs": [
    {
     "name": "stdout",
     "output_type": "stream",
     "text": [
      "['x', 'b']\n"
     ]
    }
   ],
   "source": [
    "import json\n",
    "\n",
    "class KeyDiff:\n",
    "    def __init__(self, json_obj1, json_obj2):\n",
    "        self.json_obj1 = json_obj1\n",
    "        self.json_obj2 = json_obj2\n",
    "    \n",
    "    def get_different_keys(self):\n",
    "        keys1 = set(self.json_obj1.keys())\n",
    "        keys2 = set(self.json_obj2.keys())\n",
    "        different_keys = keys1.symmetric_difference(keys2)\n",
    "        print(list(different_keys))\n",
    "\n",
    "A = {'a': 100, 'b': 200}\n",
    "B = {'a': 100, 'x': 300}\n",
    "\n",
    "obj = KeyDiff(A, B)\n",
    "obj.get_different_keys()"
   ]
  },
  {
   "cell_type": "code",
   "execution_count": null,
   "metadata": {},
   "outputs": [],
   "source": [
    "\n"
   ]
  }
 ],
 "metadata": {
  "kernelspec": {
   "display_name": "Python 3",
   "language": "python",
   "name": "python3"
  },
  "language_info": {
   "codemirror_mode": {
    "name": "ipython",
    "version": 3
   },
   "file_extension": ".py",
   "mimetype": "text/x-python",
   "name": "python",
   "nbconvert_exporter": "python",
   "pygments_lexer": "ipython3",
   "version": "3.12.3"
  }
 },
 "nbformat": 4,
 "nbformat_minor": 2
}
