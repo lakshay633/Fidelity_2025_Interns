{
 "cells": [
  {
   "cell_type": "markdown",
   "metadata": {},
   "source": [
    "FILE HANDLING(CONTINUE)"
   ]
  },
  {
   "cell_type": "code",
   "execution_count": 2,
   "metadata": {},
   "outputs": [
    {
     "name": "stdout",
     "output_type": "stream",
     "text": [
      "https://fidelity//rest//v1.0.0\n",
      "http://fidelity-123//rest/1\n",
      "https://fidelity//rest//v1.2.3\n"
     ]
    }
   ],
   "source": [
    "file = open(\"text.txt\",\"r\")\n",
    "print(file.read())"
   ]
  },
  {
   "cell_type": "code",
   "execution_count": 3,
   "metadata": {},
   "outputs": [
    {
     "name": "stdout",
     "output_type": "stream",
     "text": [
      "91\n",
      "0\n",
      "0\n"
     ]
    }
   ],
   "source": [
    "print(file.tell())\n",
    "print(file.seek(0))\n",
    "print(file.tell())"
   ]
  },
  {
   "cell_type": "code",
   "execution_count": 4,
   "metadata": {},
   "outputs": [
    {
     "name": "stdout",
     "output_type": "stream",
     "text": [
      "89\n",
      "3\n",
      "31\n",
      "28\n",
      "30\n",
      "0\n"
     ]
    },
    {
     "data": {
      "text/plain": [
       "0"
      ]
     },
     "execution_count": 4,
     "metadata": {},
     "output_type": "execute_result"
    }
   ],
   "source": [
    "print(len(file.read()))         # total no. of characters in files\n",
    "file.seek(0)\n",
    "print(len(file.readlines()))    # total no. of lines in files\n",
    "file.seek(0)\n",
    "print(len(file.readline()))     # total no. of characters in first line (there will be +1 if there is a Enter pressed(next line exists))\n",
    "print(len(file.readline()))     # total no. of characters in second line (because we didnt reset cursor)\n",
    "print(len(file.readline()))     # total no. of characters in third line\n",
    "print(len(file.readline()))     # total no. of characters in fourth line\n",
    "file.seek(0)"
   ]
  },
  {
   "cell_type": "code",
   "execution_count": 5,
   "metadata": {},
   "outputs": [
    {
     "name": "stdout",
     "output_type": "stream",
     "text": [
      "=> https://fidelity//rest//v1.0.0\n",
      "\n",
      "=> http://fidelity-123//rest/1\n",
      "\n",
      "=> https://fidelity//rest//v1.2.3\n"
     ]
    }
   ],
   "source": [
    "for i in file.readlines():\n",
    "    print(\"=>\",i)\n",
    "    \n",
    "file.close()"
   ]
  },
  {
   "cell_type": "markdown",
   "metadata": {},
   "source": [
    "Using OS Module"
   ]
  },
  {
   "cell_type": "code",
   "execution_count": 6,
   "metadata": {},
   "outputs": [
    {
     "name": "stdout",
     "output_type": "stream",
     "text": [
      "['3-2.ipynb', '31-1.ipynb', '4-2.ipynb', '5-2.ipynb', 'binary.dat', 'binary1.dat', 'binary2.dat', 'data.csv', 'lol', 'text.txt', 'text1.txt']\n"
     ]
    }
   ],
   "source": [
    "import os\n",
    "print(os.listdir(\".\"))      #prints name of files and folder(not files inside it(we use walk()for that)) under current folder"
   ]
  },
  {
   "cell_type": "code",
   "execution_count": 7,
   "metadata": {},
   "outputs": [
    {
     "name": "stdout",
     "output_type": "stream",
     "text": [
      "path:  . \t folders:  ['lol'] \t files:  ['3-2.ipynb', '31-1.ipynb', '4-2.ipynb', '5-2.ipynb', 'binary.dat', 'binary1.dat', 'binary2.dat', 'data.csv', 'text.txt', 'text1.txt']\n",
      "path:  .\\lol \t folders:  ['lmao'] \t files:  ['lol1.txt']\n",
      "path:  .\\lol\\lmao \t folders:  [] \t files:  ['lmao1.txt']\n"
     ]
    }
   ],
   "source": [
    "for dirpath,dir,file in os.walk(\".\"):\n",
    "    print(\"path: \",dirpath,\"\\t\",\"folders: \",dir,\"\\t\",\"files: \",file)\n",
    "    # print(type(file))"
   ]
  },
  {
   "cell_type": "code",
   "execution_count": 8,
   "metadata": {},
   "outputs": [
    {
     "name": "stdout",
     "output_type": "stream",
     "text": [
      "['$Recycle.Bin', 'bootTel.dat', 'Config.Msi', 'Documents and Settings', 'DumpStack.log', 'DumpStack.log.tmp', 'Hadoop', 'hiberfil.sys', 'install.log', 'Intel', 'MinGW', 'OneDriveTemp', 'pagefile.sys', 'PerfLogs', 'Program Files', 'Program Files (x86)', 'ProgramData', 'Python312', 'recovery', 'RHDSetup.log', 'Riot Games', 'Setup.log', 'spark-3.5.4', 'swapfile.sys', 'System Volume Information', 'Users', 'User_manual', 'Wallpaper', 'Windows']\n"
     ]
    }
   ],
   "source": [
    "x=input(\"Enter the path: \")     # to get name of files and folder at desired location\n",
    "print(os.listdir(x))"
   ]
  },
  {
   "cell_type": "code",
   "execution_count": 9,
   "metadata": {},
   "outputs": [
    {
     "name": "stdout",
     "output_type": "stream",
     "text": [
      "text.txt\n",
      "text1.txt\n",
      "lol1.txt\n",
      "lmao1.txt\n"
     ]
    }
   ],
   "source": [
    "# to get all files of a type inside folder\n",
    "for dirpath,dir,file in os.walk(\".\"):\n",
    "    for i in file:\n",
    "        if i.endswith(\".txt\"):          # endswith() works on strings to check their\n",
    "            print(i)"
   ]
  },
  {
   "cell_type": "markdown",
   "metadata": {},
   "source": [
    "Working with CSV files"
   ]
  },
  {
   "cell_type": "code",
   "execution_count": 10,
   "metadata": {},
   "outputs": [],
   "source": [
    "import csv\n",
    "with open(\"data.csv\",\"w\",newline=\"\") as f:\n",
    "    w=csv.writer(f)\n",
    "    w.writerow([\"Emp no.\",\"Emp name\",\"Salary\"])\n",
    "    w.writerow([\"1\",\"A\",\"1000\"])\n",
    "    "
   ]
  },
  {
   "cell_type": "code",
   "execution_count": 11,
   "metadata": {},
   "outputs": [
    {
     "name": "stdout",
     "output_type": "stream",
     "text": [
      "Emp no.,Emp name,Salary\n",
      "1,A,1000\n",
      "\n"
     ]
    }
   ],
   "source": [
    "with open(\"data.csv\",\"r\") as f:\n",
    "    print(f.read())"
   ]
  },
  {
   "cell_type": "code",
   "execution_count": 12,
   "metadata": {},
   "outputs": [
    {
     "name": "stdout",
     "output_type": "stream",
     "text": [
      "[['Emp no.', 'Emp name', 'Salary'], ['1', 'A', '1000']]\n"
     ]
    }
   ],
   "source": [
    "with open(\"data.csv\",\"r\") as f:\n",
    "    o=csv.reader(f)         #returns object\n",
    "    print(list(o))"
   ]
  },
  {
   "cell_type": "markdown",
   "metadata": {},
   "source": [
    "SERIALIZATION (using pickle)"
   ]
  },
  {
   "cell_type": "code",
   "execution_count": 13,
   "metadata": {},
   "outputs": [],
   "source": [
    "import pickle\n",
    "d=[10,30,50]\n",
    "file=open(\"binary.dat\",\"wb\")\n",
    "pickle.dump(d,file)         # list converted to binary and stored\n",
    "file.close()"
   ]
  },
  {
   "cell_type": "code",
   "execution_count": 14,
   "metadata": {},
   "outputs": [
    {
     "name": "stdout",
     "output_type": "stream",
     "text": [
      "b'\\x80\\x04\\x95\\x0b\\x00\\x00\\x00\\x00\\x00\\x00\\x00]\\x94(K\\nK\\x1eK2e.'\n",
      "[10, 30, 50]\n"
     ]
    }
   ],
   "source": [
    "with open(\"binary.dat\",\"rb\") as f:\n",
    "    print(f.read())\n",
    "    f.seek(0)\n",
    "    print(pickle.load(f))"
   ]
  },
  {
   "cell_type": "code",
   "execution_count": 15,
   "metadata": {},
   "outputs": [
    {
     "data": {
      "text/plain": [
       "['[10,20,30]\\n',\n",
       " '{\"A\":10,\"B\":20}\\n',\n",
       " '(202,203,204)\\n',\n",
       " '{1,2,3,4}\\n',\n",
       " '{\"z\":26,\"j\":10}']"
      ]
     },
     "execution_count": 15,
     "metadata": {},
     "output_type": "execute_result"
    }
   ],
   "source": [
    "# convert only dictionaries from a text file to binary\n",
    "with open(\"text1.txt\",\"r\") as i:\n",
    "    l=i.readlines()\n",
    "l"
   ]
  },
  {
   "cell_type": "code",
   "execution_count": 16,
   "metadata": {},
   "outputs": [
    {
     "data": {
      "text/plain": [
       "['{\"A\":10,\"B\":20}\\n', '{\"z\":26,\"j\":10}']"
      ]
     },
     "execution_count": 16,
     "metadata": {},
     "output_type": "execute_result"
    }
   ],
   "source": [
    "import re\n",
    "a=[]\n",
    "for x in l:\n",
    "    if re.match(r\"^\\{.*:\", x):\n",
    "        a.append(x)\n",
    "a"
   ]
  },
  {
   "cell_type": "code",
   "execution_count": 17,
   "metadata": {},
   "outputs": [
    {
     "name": "stdout",
     "output_type": "stream",
     "text": [
      "['{\"A\":10,\"B\":20}\\n', '{\"z\":26,\"j\":10}']\n"
     ]
    }
   ],
   "source": [
    "with open(\"binary1.dat\",\"wb\") as file:\n",
    "    pickle.dump(a,file)\n",
    "with open(\"binary1.dat\",\"rb\") as file:\n",
    "    print(pickle.load(file))"
   ]
  },
  {
   "cell_type": "markdown",
   "metadata": {},
   "source": [
    "MULTI THREADING"
   ]
  },
  {
   "cell_type": "code",
   "execution_count": 18,
   "metadata": {},
   "outputs": [
    {
     "name": "stdout",
     "output_type": "stream",
     "text": [
      "MainThread\n"
     ]
    },
    {
     "name": "stderr",
     "output_type": "stream",
     "text": [
      "C:\\Users\\kship\\AppData\\Local\\Temp\\ipykernel_9624\\3455438487.py:2: DeprecationWarning: getName() is deprecated, get the name attribute instead\n",
      "  print(current_thread().getName())\n"
     ]
    }
   ],
   "source": [
    "from threading import *\n",
    "print(current_thread().getName())"
   ]
  },
  {
   "cell_type": "code",
   "execution_count": 19,
   "metadata": {},
   "outputs": [
    {
     "name": "stdout",
     "output_type": "stream",
     "text": [
      "child thread 1\n",
      "child thread 2\n",
      "child thread 3\n",
      "child thread 4\n",
      "child thread 5\n",
      "child thread 6\n",
      "child thread 7\n",
      "child thread 8\n",
      "child thread 9\n",
      "main thread 1\n",
      "main thread 2\n",
      "main thread 3\n",
      "main thread 4\n",
      "main thread 5\n",
      "main thread 6\n",
      "main thread 7\n",
      "main thread 8\n",
      "main thread 9\n"
     ]
    }
   ],
   "source": [
    "def dsp():\n",
    "    for i in range(1,10):\n",
    "        print(\"child thread\",i)\n",
    "t=Thread(target=dsp)\n",
    "t.start()\n",
    "for i in range(1,10):\n",
    "    print(\"main thread\",i)"
   ]
  },
  {
   "cell_type": "code",
   "execution_count": 20,
   "metadata": {},
   "outputs": [
    {
     "name": "stdout",
     "output_type": "stream",
     "text": [
      "2\n",
      "4\n",
      "8\n",
      "16\n",
      "32\n",
      "64\n",
      "128\n",
      "256\n",
      "512\n",
      "1024\n",
      "5\n",
      "25\n",
      "125\n",
      "625\n",
      "3125\n",
      "15625\n",
      "78125\n",
      "390625\n",
      "1953125\n",
      "9765625\n",
      "Time without multi-threading 20.023807048797607\n",
      "25\n",
      "\n",
      "25\n",
      "4\n",
      "8125\n",
      "\n",
      "625\n",
      "16\n",
      "3125\n",
      "32\n",
      "15625\n",
      "64\n",
      "78125\n",
      "128\n",
      "390625\n",
      "256\n",
      "1953125\n",
      "512\n",
      "9765625\n",
      "1024\n",
      "Time with multi-threading 10.04179573059082\n"
     ]
    }
   ],
   "source": [
    "from time import *\n",
    "def pow2():\n",
    "    for i in range(1,11):\n",
    "        sleep(1)\n",
    "        print(2**i)\n",
    "        \n",
    "def pow5():\n",
    "    for i in range(1,11):\n",
    "        sleep(1)\n",
    "        print(5**i)\n",
    "\n",
    "btime=time()\n",
    "pow2()\n",
    "pow5()\n",
    "etime=time()\n",
    "print(\"Time without multi-threading\",etime-btime)\n",
    "          \n",
    "t1=Thread(target=pow2)\n",
    "t2=Thread(target=pow5)\n",
    "btime1=time()\n",
    "t1.start()\n",
    "t2.start()\n",
    "\n",
    "# Ensure both threads complete execution\n",
    "t1.join()\n",
    "t2.join()\n",
    "\n",
    "etime1 = time()\n",
    "print(\"Time with multi-threading\",etime1-btime1)"
   ]
  },
  {
   "cell_type": "code",
   "execution_count": 21,
   "metadata": {},
   "outputs": [
    {
     "name": "stdout",
     "output_type": "stream",
     "text": [
      "Good morning Lakshay"
     ]
    },
    {
     "name": "stdout",
     "output_type": "stream",
     "text": [
      "Lakshay\n",
      "Good morning LakshayLakshay\n",
      "Good morning LakshayLakshay\n",
      "Good morning LakshayLakshay\n",
      "Good morning LakshayLakshay\n",
      "Good morning AgarwalAgarwal\n",
      "Good morning AgarwalAgarwal\n",
      "Good morning AgarwalAgarwal\n",
      "Good morning AgarwalAgarwal\n",
      "Good morning AgarwalAgarwal\n"
     ]
    }
   ],
   "source": [
    "# synchronization\n",
    "l=Lock()\n",
    "def wish(name):\n",
    "    l.acquire()\n",
    "    for i in range(5):\n",
    "        print(\"Good morning\",name,end=\"\")\n",
    "        sleep(1)\n",
    "        print(name)\n",
    "    l.release()\n",
    "t1=Thread(target=wish,args=('Lakshay',))    # tuple of params\n",
    "t2=Thread(target=wish,args=('Agarwal',))\n",
    "t1.start()\n",
    "t2.start()"
   ]
  },
  {
   "cell_type": "code",
   "execution_count": 22,
   "metadata": {},
   "outputs": [
    {
     "name": "stdout",
     "output_type": "stream",
     "text": [
      "Good morning LakshayGood morning Agarwal"
     ]
    },
    {
     "name": "stdout",
     "output_type": "stream",
     "text": [
      "Lakshay\n",
      "Good morning LakshayAgarwal\n",
      "Good morning AgarwalLakshay\n",
      "Good morning LakshayAgarwal\n",
      "Good morning AgarwalLakshay\n",
      "Good morning LakshayAgarwal\n",
      "Good morning AgarwalLakshay\n",
      "Good morning LakshayAgarwal\n",
      "Good morning Agarwal"
     ]
    },
    {
     "name": "stderr",
     "output_type": "stream",
     "text": [
      "Exception in thread Exception in thread Thread-14 (wish):\n",
      "Traceback (most recent call last):\n",
      "  File \"c:\\Python312\\Lib\\threading.py\", line 1073, in _bootstrap_inner\n",
      "Thread-13 (wish):\n",
      "Traceback (most recent call last):\n",
      "  File \"c:\\Python312\\Lib\\threading.py\", line 1073, in _bootstrap_inner\n",
      "    self.run()\n",
      "  File \"C:\\Users\\kship\\AppData\\Roaming\\Python\\Python312\\site-packages\\ipykernel\\ipkernel.py\", line 766, in run_closure\n",
      "    self.run()\n",
      "  File \"C:\\Users\\kship\\AppData\\Roaming\\Python\\Python312\\site-packages\\ipykernel\\ipkernel.py\", line 766, in run_closure\n",
      "    _threading_Thread_run(self)\n",
      "  File \"c:\\Python312\\Lib\\threading.py\", line 1010, in run\n",
      "    self._target(*self._args, **self._kwargs)\n",
      "  File \"C:\\Users\\kship\\AppData\\Local\\Temp\\ipykernel_9624\\2437738412.py\", line 8, in wish\n",
      "    _threading_Thread_run(self)\n",
      "  File \"c:\\Python312\\Lib\\threading.py\", line 1010, in run\n",
      "    self._target(*self._args, **self._kwargs)\n",
      "  File \"C:\\Users\\kship\\AppData\\Local\\Temp\\ipykernel_9624\\2437738412.py\", line 8, in wish\n",
      "AttributeError: 'str' object has no attribute 'release'\n",
      "AttributeError: 'str' object has no attribute 'release'\n"
     ]
    },
    {
     "name": "stdout",
     "output_type": "stream",
     "text": [
      "Lakshay\n",
      "Agarwal\n"
     ]
    }
   ],
   "source": [
    "s=Semaphore(2)\n",
    "def wish(name):\n",
    "    s.acquire()\n",
    "    for i in range(5):\n",
    "        print(\"Good morning\",name,end=\"\")\n",
    "        sleep(1)\n",
    "        print(name)\n",
    "    s.release()\n",
    "t1=Thread(target=wish,args=('Lakshay',))    # tuple of params as args\n",
    "t2=Thread(target=wish,args=('Agarwal',))\n",
    "t3=Thread(target=wish,args=('Aditya',))\n",
    "t4=Thread(target=wish,args=('samdani',))\n",
    "t5=Thread(target=wish,args=('Manreet',))\n",
    "t6=Thread(target=wish,args=('Vohra',))\n",
    "t1.start()\n",
    "t2.start()\n",
    "t3.start()\n",
    "t4.start()\n",
    "t5.start()\n",
    "t6.start()"
   ]
  },
  {
   "cell_type": "markdown",
   "metadata": {},
   "source": [
    "REGEX"
   ]
  },
  {
   "cell_type": "code",
   "execution_count": 23,
   "metadata": {},
   "outputs": [
    {
     "data": {
      "text/plain": [
       "['Lakshay0633']"
      ]
     },
     "execution_count": 23,
     "metadata": {},
     "output_type": "execute_result"
    }
   ],
   "source": [
    "from re import *\n",
    "s=\"Lakshay0633\"\n",
    "x = findall(r\"\\ALakshay\\d{4}$\",s)\n",
    "x"
   ]
  },
  {
   "cell_type": "code",
   "execution_count": 24,
   "metadata": {},
   "outputs": [
    {
     "data": {
      "text/plain": [
       "['l633']"
      ]
     },
     "execution_count": 24,
     "metadata": {},
     "output_type": "execute_result"
    }
   ],
   "source": [
    "s=\"l633\"\n",
    "x=findall(r\"\\A[a-z]{1}[0369]{1}[a-zA-Z0-9]*\",s)\n",
    "x"
   ]
  },
  {
   "cell_type": "code",
   "execution_count": 25,
   "metadata": {},
   "outputs": [
    {
     "data": {
      "text/plain": [
       "['HR 22 AZ 4561']"
      ]
     },
     "execution_count": 25,
     "metadata": {},
     "output_type": "execute_result"
    }
   ],
   "source": [
    "noplate=\"HR 22 AZ 4561\"\n",
    "x=findall(r\"\\AHR[ ]{1}[0-9]{2}\\s[A-Z]{2}\\s[0-9]{4}$\",noplate)\n",
    "x"
   ]
  },
  {
   "cell_type": "code",
   "execution_count": 26,
   "metadata": {},
   "outputs": [
    {
     "data": {
      "text/plain": [
       "['lakshay633@gmail.com']"
      ]
     },
     "execution_count": 26,
     "metadata": {},
     "output_type": "execute_result"
    }
   ],
   "source": [
    "# Valid email (With little customizations)\n",
    "email=\"lakshay633@gmail.com\"\n",
    "x=findall(r\"\\A[a-z]{1}[^@$#\\s]*\\d{1}[^@$#\\s]*\\d{1}[^@$#\\s]*@[a-z]+.com$\",email)\n",
    "x"
   ]
  },
  {
   "cell_type": "code",
   "execution_count": 27,
   "metadata": {},
   "outputs": [
    {
     "data": {
      "text/plain": [
       "'b\\'<!DOCTYPE html>\\\\n<html lang=\"en\">\\\\n<!--<![endif]-->\\\\n<head id=\"Head1\">\\\\n\\\\n    <!-- <link rel=\"search\" type=\"application/opensearchdescription+xml\" title=\"redBus\" href=\"opensearch.xml\" /> -->\\\\n    <!--[if IE]> <meta http-equiv=\"X-UA-Compatible\" content=\"IE=edge\"> <![endif]-->\\\\n    <!--[if lt IE 10]>\\\\n            <div class=\"MB\"><p class=\"browsehappy\">You are using an <strong>outdated</strong> browser. Please <a href=\"http://browsehappy.com/\">upgrade your browser</a> to improve your experience.</p></div>\\\\n        <![endif]-->\\\\n        <meta name=\"viewport\" content=\"width=device-width, initial-scale=1.0\">\\\\n    <!-- DNS prefetch -->\\\\n    <link rel=\"preconnect\" href=\"//s1.rdbuz.com\" />\\\\n    <link rel=\"preconnect\" href=\"//s2.rdbuz.com\" />\\\\n    <link rel=\"preconnect\" href=\"//s3.rdbuz.com\" />\\\\n    <link rel=\"preload\" href=\"/stylesheets/layout.127fbe8254da562cd7f430bdba46f48e.bundle.css\" as=\"style\" fetchpriority=\"high\" crossorigin onload=\"this.rel=\\\\\\'stylesheet\\\\\\'\">\\\\n\\\\n    <link href=\"../../../favicon.ico?root=rbus\" rel=\"shortcut icon\" />\\\\n    <!--[if lt IE 9]>\\\\n    <script src=\"https://html5shiv.googlecode.com/svn/trunk/html5.js\"></script>\\\\n    <![endif]-->\\\\n\\\\n\\\\n            <meta name=\"Keywords\" content=\"online bus ticket booking, bus booking, volvo ac bus booking, bus ticket booking, bus tickets\" />\\\\n        <meta name=\"description\" content=\"\" />\\\\n        <meta id=\"page_name\" name=\"page_name\"/>\\\\n        <meta property=\"og:title\" content=\"Online Bus Ticket Booking, Book AC Volvo Bus Tickets - redBus\" />\\\\n        <meta property=\"og:type\" content=\"company\" />\\\\n        <meta property=\"og:url\" content=\"www.redbus.in\" />\\\\n        <meta property=\"og:image\" href=\"http://s3.rdbuz.com/assets/images/logo/b_logo.png\" />\\\\n        <meta property=\"og:site_name\" content=\"redBus\" />\\\\n        <meta property=\"og:description\" content=\"Compare and Book online bus tickets in India. Find best prices and discounts on all Volvo, AC and sleeper buses in India.\" />\\\\n         \\\\n    \\\\n    \\\\n    \\\\n    <link href=\"/stylesheets/contactUs.e53bb50d328cfb0755b6de8c8bd7c1c0.bundle.css\" rel=\"stylesheet\" />\\\\n<meta name=\"viewport\" content=\"width=device-width, initial-scale=1.0\">\\\\n<title>Customer Support, 24X7  Customer Service -redBus.in</title>\\\\n<!-- DNS prefetch -->\\\\n<link rel=\"dns-prefetch\" href=\"//s1.rdbuz.com\" />\\\\n<link rel=\"dns-prefetch\" href=\"//s2.rdbuz.com\" />\\\\n<link rel=\"dns-prefetch\" href=\"//s3.rdbuz.com\" />\\\\n<link href=\"../../../favicon.ico\" rel=\"shortcut icon\" />\\\\n<!--[if lt IE 9]>\\\\n<script src=\"https://html5shiv.googlecode.com/svn/trunk/html5.js\"></script>\\\\n<![endif]-->\\\\n<meta name=\"Keywords\" content=\"redBus customer support email\" />\\\\n<meta name=\"description\" content=\"Having any difficulty? No worried redBus has  a customer support to help you around the clock. Just call on us.\" />\\\\n<link rel=\"canonical\" href=\"https://www.redbus.in/info/contactus\">\\\\n\\\\n    <script>\\\\n        var page = \\\\\\'\\\\\\';\\\\n    </script>\\\\n\\\\n\\\\n    \\\\n     <script defer> \\\\n        \\\\n                if (\"True\" === \"True\") {\\\\n              window.mriObject = window.mriObject || [];\\\\n          }\\\\n    window.addEventListener(\\\\\\'load\\\\\\', function(){\\\\n      \\\\n        if (\"True\" === \"True\") {\\\\n                (function (w, d, s, l, p) {\\\\n                  w[p] = \"\";\\\\n                  w[l] = w[l] || []; w[l].push({\\\\n                    \\\\\\'mri.start\\\\\\':\\\\n                      new Date().getTime(), event: \\\\\\'mri.js\\\\\\'\\\\n                  });\\\\n                  w[l].push({\\\\n                    timestamp: Math.round(new Date().getTime()), \\\\n                    event: \\\\\\'pageLoad\\\\\\',\\\\n                  });\\\\n                  var f = d.getElementsByTagName(s)[0];\\\\n                  var j = d.createElement(s);\\\\n                  j.defer = true;\\\\n                  j.setAttribute(\\\\\\'data-main\\\\\\', \"https://mriclient.redbus.com/mri/push-to-kafka\");\\\\n                  j.setAttribute(\\\\\\'data-env\\\\\\', \"prod\");\\\\n                  j.src = `/mriInteractions.js?v=8`;\\\\n                  j.id = \\\\\\'mri_client_script\\\\\\'\\\\n                  f.parentNode.insertBefore(j, f);\\\\n                })(window, document, \\\\\\'script\\\\\\', \\\\\\'mriObject\\\\\\', \\\\\\'currentPage\\\\\\');\\\\n              }\\\\n    }); \\\\n</script>\\\\n   \\\\n \\\\n        <script>\\\\n            function setCookie(e,r,n){var t=new Date;t.setTime(t.getTime()+24*n*60*60*1e3);var o=\"expires=\"+t.toUTCString();document.cookie=e+\"=\"+r+\";\"+o+\";path=/\"}\\\\n            function getCookie(e){return document.cookie.length>0&&(c_start=document.cookie.indexOf(e+\"=\"),-1!=c_start)?(c_start=c_start+e.length+1,c_end=document.cookie.indexOf(\";\",c_start),-1==c_end&&(c_end=document.cookie.length),unescape(document.cookie.substring(c_start,c_end))):\"\"}var connection = navigator.connection || navigator.mozConnection || navigator.webkitConnection;var type = connection && connection.effectiveType || \"-\" \\\\n            var pageName = \\\\\\'\\\\\\';\\\\n            var multipleAbData = [{\"expiry\":21.0,\"originalTraffic\":0.0,\"bucketTraffic\":[0.0,0.0,1.0],\"cookieName\":\"reddealBoostAB\",\"abValue\":null,\"page\":\"HOME\",\"cookiePrefix\":null},{\"expiry\":21.0,\"originalTraffic\":0.0,\"bucketTraffic\":[0.0,0.0,1.0],\"cookieName\":\"rtcInline\",\"abValue\":null,\"page\":\"SEARCH\",\"cookiePrefix\":null},{\"expiry\":21.0,\"originalTraffic\":0.0,\"bucketTraffic\":[0.33,0.33,0.33],\"cookieName\":\"dynamic_custinfo\",\"abValue\":null,\"page\":\"SEARCH\",\"cookiePrefix\":null},{\"expiry\":21.0,\"originalTraffic\":0.5,\"bucketTraffic\":[0.5],\"cookieName\":\"uirAB_WEB\",\"abValue\":null,\"page\":\"home\",\"cookiePrefix\":null}];\\\\n            var abExpSync = [\"reddealBoostAB\",\"rtcInline\",\"dynamic_custinfo\"];\\\\n            const multiplAbDataCount = multipleAbData && multipleAbData.length;\\\\n            const abExpsList =  [];\\\\n            const abExpsVariants =  [];\\\\n            const abExpMriSync = abExpSync || [];\\\\n\\\\n            function assignToBucket (weights, cookiePrefix) {\\\\n                var expt = cookiePrefix || \"V\"\\\\n                var random = Math.random();\\\\n                for(var i = 0 ; i < weights.length ; i++){\\\\n                    if(random >= weights[i] && random <= weights[i+1]){\\\\n                        return expt+i;\\\\n                    }   \\\\n                }\\\\n            }\\\\n            function computeWeights (originalTraffic, bucketTraffic ) {\\\\n                /*\\\\n                originalTraffic : Holding traffic for which cookie will not be set\\\\n                bucketTraffic: Array of split % within experiment traffic\\\\n                eg: [0.33, 0.33, 0.34]  =>  This means the experiment traffic will be equally divided into 3 parts\\\\n                Sum of all elements in bucketTraffic + originalTraffic should be equal to 1 (100% users set)\\\\n                */\\\\n                let abWeights = [originalTraffic];\\\\n                let minRange = originalTraffic;\\\\n                for( let i = 0; i< bucketTraffic.length; i++) {\\\\n                    const maxRange = minRange + bucketTraffic[i];\\\\n                    abWeights.push(maxRange);\\\\n                    minRange = maxRange;\\\\n                }\\\\n                return abWeights;\\\\n            }\\\\n\\\\n            const addToExpsList = (cookieName, val) => {\\\\n              if(!abExpsList.includes(cookieName) && abExpMriSync.includes(cookieName)){\\\\n                abExpsList.push(cookieName);\\\\n                abExpsVariants.push(cookieName+\\\\\\':\\\\\\' + val);\\\\n              }\\\\n            }\\\\n\\\\n            if(multiplAbDataCount && pageName){\\\\n                for(let i = 0; i < multipleAbData.length; i++ ){\\\\n                    const abDataItem = multipleAbData[i];\\\\n                    let abWeights = computeWeights(abDataItem.originalTraffic, abDataItem.bucketTraffic);\\\\n                    if(abDataItem.page ===  pageName &&  !getCookie(abDataItem.cookieName)){\\\\n                        var abBucket = assignToBucket(abWeights, abDataItem.cookiePrefix);\\\\n                        abBucket && setCookie(abDataItem.cookieName, abBucket, (abDataItem.expiry || 14));\\\\n                        abBucket && addToExpsList(abDataItem.cookieName, abBucket);\\\\n                    }\\\\n                    else if(getCookie(abDataItem.cookieName)){\\\\n                        addToExpsList(abDataItem.cookieName, getCookie(abDataItem.cookieName));\\\\n                    }\\\\n                }\\\\n                setCookie(\\\\\\'abExps\\\\\\',  JSON.stringify(abExpsList));\\\\n                setCookie(\\\\\\'abExpsVariants\\\\\\',(abExpsVariants && abExpsVariants.join(\"?\")));\\\\n        }\\\\n        </script>\\\\n    \\\\n    \\\\n</head>\\\\n<body>\\\\n  \\\\n        \\\\n  \\\\n    <section id=\"rh_main\" style=\"min-height: 1000px;\">\\\\n        <div id=\"sticky_phantom\" class=\"hide\">\\\\n        </div>\\\\n     \\\\n                <header id=\"main_header_new\" class=\"redbus_header \">\\\\n                    <link rel=\"preload\" href=\"https://s3.rdbuz.com/web/images/layout/rail_vertical.svg\" as=\"image\" fetchpriority=\"high\">\\\\n<script>\\\\n    function getCookie(cookieName) {\\\\n        const cookies = document.cookie.split(\\\\\\';\\\\\\');\\\\n        for (let i = 0; i < cookies.length; i++) {\\\\n            let cookie = cookies[i].trim();\\\\n            if (cookie.startsWith(cookieName + \\\\\\'=\\\\\\')) {\\\\n                return decodeURIComponent(cookie.substring(cookieName.length + 1));\\\\n            }\\\\n        }\\\\n        return null;\\\\n    }\\\\n</script>\\\\n\\\\n<style>\\\\n    #main_header_new {\\\\n        height: 6.25rem;\\\\n        width: 100%;\\\\n        -webkit-user-select: none;\\\\n        -ms-user-select: none;\\\\n        user-select: none;\\\\n        background-color: white;\\\\n        box-shadow: 0px 86px 34px rgba(0, 0, 0, 0.01), 0px 48px 29px rgba(0, 0, 0, 0.03), 0px 5px 12px rgba(0, 0, 0, 0.05), 0px 0px 0px rgba(0, 0, 0, 0.05);\\\\n        top: 0;\\\\n        z-index: 12;\\\\n    }\\\\n    #main_header_new.fixedHeader {\\\\n        position: sticky;\\\\n    }\\\\n    #main_header_new .rb_header .rb_verticals .rb_vertical:before {\\\\n        content: unset;\\\\n    }\\\\n    #main_header_new .rb_header .rb_verticals .rb_vertical:last-of-type {\\\\n        margin-right: 0;\\\\n    }\\\\n    #main_header_new .rb_header .rb_verticals .rb_vertical.active {\\\\n        background-color: #d84e55 !important;\\\\n    }\\\\n    #main_header_new .rb_header .rb_verticals .rb_vertical.active .img_rb_vertical {\\\\n        filter: brightness(0) invert(1) !important;\\\\n    }\\\\n    #main_header_new .rb_header .rb_verticals .rb_vertical.active .name_rb_vertical {\\\\n        color: #fff !important; \\\\n    }\\\\n    \\\\n    @media (min-width: 1440px) {\\\\n        #main_header_new .rb_header .rb_secondary_items {\\\\n            gap: 2rem !important;\\\\n        }\\\\n    }\\\\n\\\\n    #main_header_new .rb_header .rb_secondary_items .rb_secondary_item:before {\\\\n        content: unset;\\\\n    }\\\\n    #main_header_new .rb_header .rb_secondary_items .rb_secondary_item .rb_main_secondary_item .icon_rb_secondary_item.lang_class {\\\\n        color: #1D1D1D;\\\\n        font-size: 1.5rem;\\\\n    }\\\\n    #main_header_new .rb_header .rb_secondary_items .rb_secondary_item .rb_main_secondary_item:hover {\\\\n        background-color: #f0f0f0 !important;\\\\n        border-radius: 0.5rem !important;\\\\n    }\\\\n\\\\n    #main_header_new .rb_header .rb_secondary_items .rb_secondary_item .dropdown_wrap.show-only-logged-in-wrap {\\\\n        transform: translateX(-100%);\\\\n    }\\\\n   \\\\n    #main_header_new .rb_header .link{\\\\n        cursor: pointer;\\\\n        transition: all 500ms;\\\\n    }\\\\n    #main_header_new .rb_header .link:hover, #main_header_new .rb_header .name_rb_secondary_item:hover {\\\\n        background-color: #f0f0f0 !important;\\\\n        border-radius: 0.5rem !important;\\\\n    }\\\\n    #main_header_new .rb_header .link:hover .img_rb_vertical, #main_header_new .rb_header .name_rb_secondary_item:hover .img_rb_vertical {\\\\n        filter: none !important;\\\\n    }\\\\n\\\\n    #main_header_new .rb_header.ferry_header {\\\\n        height: 5.026rem;\\\\n    }\\\\n</style>\\\\n\\\\n<div class= \\\\\\'rb_header \\\\\\' style=\"height: 100px; display: flex; align-items: center; max-width: 1200px; margin: auto;\">\\\\n    <picture>\\\\n        <source srcset=\"https://s3.rdbuz.com/Images/rdc/rdc-redbus-logo.webp\" type=\"image/webp\">\\\\n        <img src=\"https://s3.rdbuz.com/Images/rdc/rdc-redbus-logo.svg\" alt=\"redBus\" class=\"rb_logo\" title=\"redBus\" style=\"width: 5rem; height: 3rem; cursor: pointer;\">\\\\n    </picture>\\\\n        <span class=\"vertical_seperator\" style=\"width: 1px; height: 20px; background: #e0e0e0; margin: 0 calc(4rem - 2rem) 0 4rem;\"></span>\\\\n        <ul class=\"rb_verticals\" style=\"display: flex; list-style: none; margin: 0; padding: 0;\">\\\\n                    <li class=\"rb_vertical link active\" id=\"bus_tickets_vertical\" data-url=\"https://www.redbus.in/bus-tickets\" style=\"display: flex; flex-direction: column; padding: 1em 0.625rem; background-color: #fff; border-radius: 0.5rem; margin-right: 1rem; text-align: center; position: relative;width: 7rem\">\\\\n                            <img class=\"img_rb_vertical\" src=\"https://s3.rdbuz.com/Images/rdc/rdc-redbus-logo.svg\" alt=\"Online Bus Tickets Booking\" title=\"Online Bus Tickets Booking\" style=\"height: 1.25rem; margin-bottom: 0.5rem; filter: grayscale(1) brightness(0); width: 5.25rem;\">\\\\n                        <span class=\"name_rb_vertical\" style=\"color: #1d1d1d; font-weight: 500; text-wrap: nowrap;\">Bus Tickets</span>\\\\n                    </li>\\\\n                    <li class=\"rb_vertical link \" id=\"rail_tickets_vertical\" data-url=\"https://www.redbus.in/railways\" style=\"display: flex; flex-direction: column; padding: 1em 0.625rem; background-color: #fff; border-radius: 0.5rem; margin-right: 1rem; text-align: center; position: relative;width: 7rem\">\\\\n                            <div class=\"img_rb_vertical_wrap\" style=\"width: 5.25rem;\">\\\\n                                <div class=\"img_new_wrap\" style=\" position: relative; width: fit-content; margin: 0 auto;\">\\\\n                                    <img class=\"img_rb_vertical\" src=\"https://s3.rdbuz.com/web/images/layout/rail_vertical.svg\" alt=\"Online Train Tickets Booking\" title=\"Online Train Tickets Booking\" style=\"height: 1.25rem; margin-bottom: 0.5rem; filter: grayscale(1) brightness(0); width: 2rem;\">\\\\n                                    <span class=\"img_tag\" style=\"position: absolute; padding: 0.125rem 0.25rem; background: #60b681; color: white; border-radius: 0.375rem; font-size: 0.675rem; font-weight: 500; top: -0.625rem; left: 84%; height: 1.063rem; width: 3rem;\">&#x20B9;60 off</span>\\\\n                                </div>\\\\n                            </div>\\\\n                        <span class=\"name_rb_vertical\" style=\"color: #1d1d1d; font-weight: 500; text-wrap: nowrap;\">Train Tickets</span>\\\\n                    </li>\\\\n        </ul>\\\\n            <ul class=\"rb_secondary_items\" style=\"display: flex; gap: 1rem; align-items: center; list-style: none; margin: 0 0 0 auto; padding: 0;\">\\\\n                    <li data-text=\"Help\" class=\"rb_secondary_item\" id=\"help_redcare\" data-isredirect=\"True\" data-url=\"/info/redcare\" style=\"position: relative;\">\\\\n                    <div class=\"rb_main_secondary_item  link\" style=\"display: flex; padding: 0.375rem 0.5rem; align-items: center;\">\\\\n                            <i class=\"icon icon-help_new icon_rb_secondary_item\" style=\"font-size: 22px; margin-right: 0.375rem;  width: 22px;\"></i>\\\\n                                                                            <span class=\"name_rb_secondary_item\" style=\"white-space: nowrap; margin: 0 4px 0 2px; font-weight: 500; color: #1d1d1d; border-radius: 0.5rem; cursor: pointer; transition: all 500ms;\">Help</span>\\\\n                                            </div>\\\\n                </li>\\\\n                    <li data-text=\"Language\" class=\"rb_secondary_item\" id=\"language_change\" data-isredirect=\"False\" data-url=\"\" style=\"position: relative;\">\\\\n                    <div class=\"rb_main_secondary_item  link\" style=\"display: flex; padding: 0.375rem 0.5rem; align-items: center;\">\\\\n                            <i class=\"icon icon-language icon_rb_secondary_item\" style=\"font-size: 22px; margin-right: 0.375rem;  width: 22px;\"></i>\\\\n                                                                            <span class=\"name_rb_secondary_item\" style=\"white-space: nowrap; margin: 0 4px 0 2px; font-weight: 500; color: #1d1d1d; border-radius: 0.5rem; cursor: pointer; transition: all 500ms;\">Language</span>\\\\n                                                    <i class=\"icon icon-down icon_secondary_item_more\" style=\"margin-top: 3px; font-size: 0.5rem;\"></i>\\\\n                    </div>\\\\n                        <div class=\"dropdown_wrap hide \" style=\" z-index: 100; position: absolute; top: 110%; left: 100%; transform: translateX(-75%); box-shadow: 0 0 1rem rgba(0, 0, 0, 0.08); border-radius: 1rem; overflow: hidden;\">\\\\n                            \\\\n<style>\\\\n  #main_header_new .rb_header .rb_secondary_items .rb_secondary_item .dropdown_wrap .header_dropdown_menu.show-only-logged-in{\\\\n        overflow-y: scroll;\\\\n        max-height: 80vh;\\\\n    }\\\\n    #main_header_new .rb_header .rb_secondary_items .rb_secondary_item .dropdown_wrap .header_dropdown_menu.show-only-logged-in::-webkit-scrollbar{\\\\n        width: 9px;\\\\n    }\\\\n    #main_header_new .rb_header .rb_secondary_items .rb_secondary_item .dropdown_wrap .header_dropdown_menu.show-only-logged-in::-webkit-scrollbar-thumb{\\\\n        background-color: #c1c1c1;\\\\n        border-radius: 8px;\\\\n        background-clip: padding-box;\\\\n        border: 2px solid #eee;\\\\n        box-shadow: unset;\\\\n    }\\\\n    #main_header_new .rb_header .rb_secondary_items .rb_secondary_item .dropdown_wrap .header_dropdown_menu.show-only-logged-in::-webkit-scrollbar-track {\\\\n        background-color: #f0f0f0;\\\\n        width: 6px;\\\\n    }\\\\n\\\\n    #main_header_new .rb_header .rb_secondary_items .rb_secondary_item .dropdown_wrap .header_dropdown_menu .header_dropdown_item:before {\\\\n        content: unset;\\\\n    }\\\\n    #main_header_new .rb_header .rb_secondary_items .rb_secondary_item .dropdown_wrap .header_dropdown_menu .header_dropdown_item:hover {\\\\n        background-color: #f3f4f9;\\\\n    }\\\\n    #main_header_new .rb_header .rb_secondary_items .rb_secondary_item .dropdown_wrap .header_dropdown_menu .header_dropdown_item:active {\\\\n        background-color: #d7d9e4;\\\\n    }\\\\n    \\\\n    #main_header_new .rb_header .rb_secondary_items .rb_secondary_item .dropdown_wrap .header_dropdown_menu .header_dropdown_item .header_dropdown_item_name.bold_item_name {\\\\n        font-weight: 600;\\\\n    }\\\\n</style>\\\\n\\\\n<ul class=\"header_dropdown_menu \" style=\"width: max-content; max-width: 250px; padding: 8px 0; background-color: #fff;\">\\\\n            <li data-text = \"English\"class=\"header_dropdown_item\" id=\"en\" data-url=\"\" style=\"display: flex; padding: 1rem 1em; align-items: center; cursor: pointer;\">\\\\n                    <i class=\"icon icon_blank\" style=\"font-size: 1rem;  width: 1.5rem !important; height: 1.5rem; display: inline-block; color: #d84e55; padding-top: 4px; margin-right: 0.75rem;\"></i>\\\\n                                <span class=\"header_dropdown_item_name\" data-headdispval=\"\" style=\"min-width: 6.5rem;\">English</span>\\\\n            </li>\\\\n            <li data-text = \"&#x939;&#x93F;&#x902;&#x926;&#x940; (Hindi)\"class=\"header_dropdown_item\" id=\"hi\" data-url=\"\" style=\"display: flex; padding: 1rem 1em; align-items: center; cursor: pointer;\">\\\\n                    <i class=\"icon icon_blank\" style=\"font-size: 1rem;  width: 1.5rem !important; height: 1.5rem; display: inline-block; color: #d84e55; padding-top: 4px; margin-right: 0.75rem;\"></i>\\\\n                                <span class=\"header_dropdown_item_name\" data-headdispval=\"\" style=\"min-width: 6.5rem;\">&#x939;&#x93F;&#x902;&#x926;&#x940; (Hindi)</span>\\\\n            </li>\\\\n            <li data-text = \"&#xBA4;&#xBAE;&#xBBF;&#xBB4;&#xBCD; (Tamil)\"class=\"header_dropdown_item\" id=\"ta\" data-url=\"\" style=\"display: flex; padding: 1rem 1em; align-items: center; cursor: pointer;\">\\\\n                    <i class=\"icon icon_blank\" style=\"font-size: 1rem;  width: 1.5rem !important; height: 1.5rem; display: inline-block; color: #d84e55; padding-top: 4px; margin-right: 0.75rem;\"></i>\\\\n                                <span class=\"header_dropdown_item_name\" data-headdispval=\"\" style=\"min-width: 6.5rem;\">&#xBA4;&#xBAE;&#xBBF;&#xBB4;&#xBCD; (Tamil)</span>\\\\n            </li>\\\\n</ul>\\\\n                        </div>\\\\n                </li>\\\\n                    <li data-text=\"Account\" class=\"rb_secondary_item\" id=\"account_dd\" data-isredirect=\"False\" data-url=\"\" style=\"position: relative;\">\\\\n                    <div class=\"rb_main_secondary_item  link\" style=\"display: flex; padding: 0.375rem 0.5rem; align-items: center;\">\\\\n                            <i class=\"icon icon-user_profile_new icon_rb_secondary_item\" style=\"font-size: 22px; margin-right: 0.375rem;  width: 22px;\"></i>\\\\n                                                                            <span class=\"name_rb_secondary_item\" style=\"white-space: nowrap; margin: 0 4px 0 2px; font-weight: 500; color: #1d1d1d; border-radius: 0.5rem; cursor: pointer; transition: all 500ms;\">Account</span>\\\\n                                                    <i class=\"icon icon-down icon_secondary_item_more\" style=\"margin-top: 3px; font-size: 0.5rem;\"></i>\\\\n                    </div>\\\\n                        <div class=\"dropdown_wrap hide \" style=\" z-index: 100; position: absolute; top: 110%; left: 100%; transform: translateX(-75%); box-shadow: 0 0 1rem rgba(0, 0, 0, 0.08); border-radius: 1rem; overflow: hidden;\">\\\\n                            \\\\n<style>\\\\n  #main_header_new .rb_header .rb_secondary_items .rb_secondary_item .dropdown_wrap .header_dropdown_menu.show-only-logged-in{\\\\n        overflow-y: scroll;\\\\n        max-height: 80vh;\\\\n    }\\\\n    #main_header_new .rb_header .rb_secondary_items .rb_secondary_item .dropdown_wrap .header_dropdown_menu.show-only-logged-in::-webkit-scrollbar{\\\\n        width: 9px;\\\\n    }\\\\n    #main_header_new .rb_header .rb_secondary_items .rb_secondary_item .dropdown_wrap .header_dropdown_menu.show-only-logged-in::-webkit-scrollbar-thumb{\\\\n        background-color: #c1c1c1;\\\\n        border-radius: 8px;\\\\n        background-clip: padding-box;\\\\n        border: 2px solid #eee;\\\\n        box-shadow: unset;\\\\n    }\\\\n    #main_header_new .rb_header .rb_secondary_items .rb_secondary_item .dropdown_wrap .header_dropdown_menu.show-only-logged-in::-webkit-scrollbar-track {\\\\n        background-color: #f0f0f0;\\\\n        width: 6px;\\\\n    }\\\\n\\\\n    #main_header_new .rb_header .rb_secondary_items .rb_secondary_item .dropdown_wrap .header_dropdown_menu .header_dropdown_item:before {\\\\n        content: unset;\\\\n    }\\\\n    #main_header_new .rb_header .rb_secondary_items .rb_secondary_item .dropdown_wrap .header_dropdown_menu .header_dropdown_item:hover {\\\\n        background-color: #f3f4f9;\\\\n    }\\\\n    #main_header_new .rb_header .rb_secondary_items .rb_secondary_item .dropdown_wrap .header_dropdown_menu .header_dropdown_item:active {\\\\n        background-color: #d7d9e4;\\\\n    }\\\\n    \\\\n    #main_header_new .rb_header .rb_secondary_items .rb_secondary_item .dropdown_wrap .header_dropdown_menu .header_dropdown_item .header_dropdown_item_name.bold_item_name {\\\\n        font-weight: 600;\\\\n    }\\\\n</style>\\\\n\\\\n<ul class=\"header_dropdown_menu \" style=\"width: max-content; max-width: 250px; padding: 8px 0; background-color: #fff;\">\\\\n            <li data-text = \"Cancel Ticket\"class=\"header_dropdown_item\" id=\"cancel_ticket\" data-url=\"/Cancellation\" style=\"display: flex; padding: 1rem 1em; align-items: center; cursor: pointer;\">\\\\n                                <span class=\"header_dropdown_item_name\" data-headdispval=\"\" style=\"min-width: 6.5rem;\">Cancel Ticket</span>\\\\n            </li>\\\\n            <li data-text = \"Change Travel Date\"class=\"header_dropdown_item\" id=\"reschedule_ticket\" data-url=\"/Reschedule\" style=\"display: flex; padding: 1rem 1em; align-items: center; cursor: pointer;\">\\\\n                                <span class=\"header_dropdown_item_name\" data-headdispval=\"\" style=\"min-width: 6.5rem;\">Change Travel Date</span>\\\\n            </li>\\\\n            <li data-text = \"Show My Ticket\"class=\"header_dropdown_item\" id=\"ticket_details\" data-url=\"/Home/PrintTicket\" style=\"display: flex; padding: 1rem 1em; align-items: center; cursor: pointer;\">\\\\n                                <span class=\"header_dropdown_item_name\" data-headdispval=\"\" style=\"min-width: 6.5rem;\">Show My Ticket</span>\\\\n            </li>\\\\n            <li data-text = \"Email/SMS\"class=\"header_dropdown_item\" id=\"smsandemail_ticket\" data-url=\"/Home/SmsAndEmailTicket\" style=\"display: flex; padding: 1rem 1em; align-items: center; cursor: pointer;\">\\\\n                                <span class=\"header_dropdown_item_name\" data-headdispval=\"\" style=\"min-width: 6.5rem;\">Email/SMS</span>\\\\n            </li>\\\\n                <span class=\"horizontal_seperator\" style=\" background-color: #e5e5e5; margin: 0.5rem 0; height: 1px; width: 100%; display: block;\"></span>\\\\n            <li data-text = \"Login/ Sign Up\"class=\"header_dropdown_item\" id=\"user_sign_in_sign_up\" data-url=\"\" style=\"display: flex; padding: 1rem 1em; align-items: center; cursor: pointer;\">\\\\n                                <span class=\"header_dropdown_item_name\" data-headdispval=\"\" style=\"min-width: 6.5rem;\">Login/ Sign Up</span>\\\\n            </li>\\\\n</ul>\\\\n                        </div>\\\\n                </li>\\\\n        </ul>\\\\n</div>\\\\n                </header>\\\\n\\\\n        <div id=\"mBWrapper\">\\\\n             <div>\\\\n    \\\\n             <div>\\\\n\\\\n        <div>\\\\n            <table cellspacing=\"0\" cellpadding=\"0\" width=\"100%\" border=\"0\">\\\\n                <tbody>\\\\n                    <tr>\\\\n                        <td>\\\\n                                <img src=\"https://s3.rdbuz.com/Images/webplatform/Common/contact-us-map.png\" class=\"contactUs-Image\" />\\\\n\\\\n                            <div class=\"imageContactText\">\\\\n                                <h1>Contact us</h1>\\\\n                            </div>\\\\n                        </td>\\\\n                    </tr>\\\\n                    <tr>\\\\n                        <td>\\\\n                            <div class=\"contact-main\">\\\\n\\\\n                                    <br />\\\\n                                    <heading class=\"CorporateOfficeHeader\">Corporate Head Office-Bangalore</heading>\\\\n\\\\n                                <div class=\"contact  main-body\">\\\\n                                    <div class=\"contact-wrapper\">\\\\n                                                <div class=\"w-30 fl\">\\\\n                                                    <div class=\"contact-header\">\\\\n                                                        BANGALORE\\\\n                                                    </div>\\\\n                                                    <ul>\\\\n\\\\n                                                            <li>Redbus India Private Limited</li>\\\\n                                                            <li>Indiqube Leela Galleria,</li>\\\\n                                                            <li>5th Floor, #No 23, Old Airport Road,</li>\\\\n                                                            <li>HAL 2nd Stage, Kodihalli Village,</li>\\\\n                                                            <li>Varthur Hobli, Ward No: 74,</li>\\\\n                                                            <li>Bengaluru, Karnataka - 560008.</li>\\\\n                                                    </ul>\\\\n\\\\n                                                </div>\\\\n                                                <div class=\"w-30 fl\">\\\\n                                                    <div class=\"contact-header\">\\\\n                                                        BANGALORE\\\\n                                                    </div>\\\\n                                                    <ul>\\\\n\\\\n                                                            <li>Redbus India Private Limited.</li>\\\\n                                                            <li>3rd Floor, Tower B1,</li>\\\\n                                                            <li>Golden Enclave, HAL Old Airport Road,</li>\\\\n                                                            <li>Murgesh Pallya, Bengaluru,</li>\\\\n                                                            <li>Karnataka - 560017.</li>\\\\n                                                    </ul>\\\\n\\\\n                                                </div>\\\\n                                                <div class=\"w-30 fl\">\\\\n                                                    <div class=\"contact-header\">\\\\n                                                        \\\\n                                                    </div>\\\\n                                                    <ul>\\\\n\\\\n                                                            <li><br/></li>\\\\n                                                            <li>Ph: +919945600000</li>\\\\n                                                            <li>For any Support or Complaints: <a href=\"https://www.redbus.in/info/redcare/\" target=\"_blank\" style=\"color: #5279d0;font-weight: bold;\">Chat with Us</a></li>\\\\n                                                            <li>Support Time : 24*7</li>\\\\n                                                            <li><br/></li>\\\\n                                                            <li>For Press enquiries: press@redbus.com</li>\\\\n                                                            <li><i>Only for Press/Media enquiries</i></li>\\\\n                                                            <li><br/></li>\\\\n                                                    </ul>\\\\n\\\\n                                                </div>\\\\n                                    </div>\\\\n\\\\n                                </div>\\\\n\\\\n                            </div>\\\\n\\\\n                        </td>\\\\n                    </tr>\\\\n                    <tr>\\\\n                        <td>\\\\n                            <div>\\\\n                                <div class=\"reachUs\">\\\\n                                    <heading> Other Offices </heading>\\\\n                                    <div class=\"reachUs  main-body\">\\\\n                                        <div class=\"contact-wrapper\">\\\\n                                                    <div class=\"w-30 fl\">\\\\n                                                        <div class=\"reachUs-header\">\\\\n                                                            COIMBATORE\\\\n                                                        </div>\\\\n                                                        <ul>\\\\n\\\\n                                                                <li>Redbus India Private Limited,</li>\\\\n                                                                <li>JK Centre, 2nd floor, 5th,</li>\\\\n                                                                <li>Kannapiran Mills Rd,</li>\\\\n                                                                <li>Sowri Palayam, Nearby KIA service center</li>\\\\n                                                                <li>Coimbatore, Tamil Nadu - 641015.</li>\\\\n                                                        </ul>\\\\n\\\\n                                                    </div>\\\\n                                                    <div class=\"w-30 fl\">\\\\n                                                        <div class=\"reachUs-header\">\\\\n                                                            AHMEDABAD\\\\n                                                        </div>\\\\n                                                        <ul>\\\\n\\\\n                                                                <li>Redbus India Private Limited.</li>\\\\n                                                                <li>Dynasty, Unit No. 905, 9th Floor,</li>\\\\n                                                                <li>Beside SBI Bank,</li>\\\\n                                                                <li>CG Road Branch,</li>\\\\n                                                                <li>Near Stadium Circle,</li>\\\\n                                                                <li>CG Road, Navrangpura,</li>\\\\n                                                                <li>Ahmedabad, Gujarat - 380009.</li>\\\\n                                                        </ul>\\\\n\\\\n                                                    </div>\\\\n                                                    <div class=\"w-30 fl\">\\\\n                                                        <div class=\"reachUs-header\">\\\\n                                                            INDORE\\\\n                                                        </div>\\\\n                                                        <ul>\\\\n\\\\n                                                                <li>Redbus India Private Limited,</li>\\\\n                                                                <li># 207, 2nd floor, Fortune Ambience,</li>\\\\n                                                                <li>Near Hotel Surya, Dhakkan wala kuan, South Tukoganj,</li>\\\\n                                                                <li>Indore 452001 - MP</li>\\\\n                                                        </ul>\\\\n\\\\n                                                    </div>\\\\n                                        </div>\\\\n                                    </div>\\\\n\\\\n                                            <div class=\"reachUs  main-body\">\\\\n                                                <div class=\"contact-wrapper\">\\\\n                                                <div class=\"w-30 fl\">\\\\n                                                    <div class=\"reachUs-header\">\\\\n                                                        HYDERABAD\\\\n                                                    </div>\\\\n                                                    <ul>\\\\n\\\\n                                                            <li>Redbus India Private Limited</li>\\\\n                                                            <li># 201, 2nd floor</li>\\\\n                                                            <li>Elite Padmavathi Corporate,</li>\\\\n                                                            <li>1-98/9/31, Plot No: 31,</li>\\\\n                                                            <li>Jai Hind Enclave, Madhapur,</li>\\\\n                                                            <li>Hyderabad - 500081. Telangana, India</li>\\\\n                                                    </ul>\\\\n\\\\n                                                </div>\\\\n                                                <div class=\"w-30 fl\">\\\\n                                                    <div class=\"reachUs-header\">\\\\n                                                        KOLKATA\\\\n                                                    </div>\\\\n                                                    <ul>\\\\n\\\\n                                                            <li>Redbus India Private Limited</li>\\\\n                                                            <li>Tower -1, Bengal Eco Intelligent Park,</li>\\\\n                                                            <li>Block\\\\xe2\\\\x80\\\\x93EM3, 14th Floor, Unit-16,</li>\\\\n                                                            <li>Salt Lake, Sector-5, Kolkata \\\\xe2\\\\x80\\\\x93 700091,</li>\\\\n                                                            <li>West Bengal, India</li>\\\\n                                                            <li><br/></li>\\\\n                                                            <li>Ph: +919945600000</li>\\\\n                                                            <li>Call Centre Time : 9:00 AM - 6:00 PM</li>\\\\n                                                    </ul>\\\\n\\\\n                                                </div>\\\\n                                                <div class=\"w-30 fl\">\\\\n                                                    <div class=\"reachUs-header\">\\\\n                                                        CHENNAI\\\\n                                                    </div>\\\\n                                                    <ul>\\\\n\\\\n                                                            <li>Redbus India Private Limited.</li>\\\\n                                                            <li>RR Towers III, 1st Floor,</li>\\\\n                                                            <li>TVK Industrial Estate,</li>\\\\n                                                            <li>Guindy, Chennai</li>\\\\n                                                            <li>Tamil Nadu - 600032</li>\\\\n                                                    </ul>\\\\n\\\\n                                                </div>\\\\n                                                </div>\\\\n                                            </div>\\\\n                                            <div class=\"reachUs  main-body\">\\\\n                                                <div class=\"contact-wrapper\">\\\\n                                                <div class=\"w-30 fl\">\\\\n                                                    <div class=\"reachUs-header\">\\\\n                                                        JAIPUR\\\\n                                                    </div>\\\\n                                                    <ul>\\\\n\\\\n                                                            <li>Redbus India Private Limited,</li>\\\\n                                                            <li>Office No.723, 7th Floor,</li>\\\\n                                                            <li>Mall of Jaipur,</li>\\\\n                                                            <li>Gandhi path W Vaishali Nagar,</li>\\\\n                                                            <li>Jaipur, Rajasthan - 302021</li>\\\\n                                                    </ul>\\\\n\\\\n                                                </div>\\\\n                                                <div class=\"w-30 fl\">\\\\n                                                    <div class=\"reachUs-header\">\\\\n                                                        MUMBAI\\\\n                                                    </div>\\\\n                                                    <ul>\\\\n\\\\n                                                            <li>Redbus India Private Limited.</li>\\\\n                                                            <li>Redbrick  Kaledonia, 1st Floor,</li>\\\\n                                                            <li>Sahar Rd, Andheri East, Mumbai,</li>\\\\n                                                            <li>Maharashtra 400069</li>\\\\n                                                    </ul>\\\\n\\\\n                                                </div>\\\\n                                                <div class=\"w-30 fl\">\\\\n                                                    <div class=\"reachUs-header\">\\\\n                                                        PUNE\\\\n                                                    </div>\\\\n                                                    <ul>\\\\n\\\\n                                                            <li>Redbus India Private Limited.</li>\\\\n                                                            <li>F-7010/7020, Solitaire Business Hub,</li>\\\\n                                                            <li>Sr. No.207 Opp. NECO Garden Society,</li>\\\\n                                                            <li>Viman Nagar, Pune</li>\\\\n                                                            <li>Maharashtra \\\\xe2\\\\x80\\\\x93 411014</li>\\\\n                                                    </ul>\\\\n\\\\n                                                </div>\\\\n                                                </div>\\\\n                                            </div>\\\\n                                            <div class=\"reachUs  main-body\">\\\\n                                                <div class=\"contact-wrapper\">\\\\n                                                <div class=\"w-30 fl\">\\\\n                                                    <div class=\"reachUs-header\">\\\\n                                                        NEW DELHI\\\\n                                                    </div>\\\\n                                                    <ul>\\\\n\\\\n                                                            <li>Redbus India Pvt Ltd,</li>\\\\n                                                            <li>Buzz by Space-Time,</li>\\\\n                                                            <li>1st Floor, 261. Lane no -5 ,</li>\\\\n                                                            <li>Western Marg, Saiyad Ul Ajaib Extension,</li>\\\\n                                                            <li>Sainik Farm,</li>\\\\n                                                            <li>New Delhi - 110030</li>\\\\n                                                    </ul>\\\\n\\\\n                                                </div>\\\\n                                                <div class=\"w-30 fl\">\\\\n                                                    <div class=\"reachUs-header\">\\\\n                                                        CHANDIGARH\\\\n                                                    </div>\\\\n                                                    <ul>\\\\n\\\\n                                                            <li>Redbus India Pvt Limited,</li>\\\\n                                                            <li>Next57 Coworking, C-205,</li>\\\\n                                                            <li>Industrial Area Phase - 8B,</li>\\\\n                                                            <li>Mohali,</li>\\\\n                                                            <li>Punjab -160070</li>\\\\n                                                    </ul>\\\\n\\\\n                                                </div>\\\\n                                                </div>\\\\n                                            </div>\\\\n                                </div>\\\\n                            </div>\\\\n\\\\n                        </td>\\\\n                    </tr>\\\\n                        <tr>\\\\n                            <td>\\\\n                                <div class=\"reachUs main-body zero-padding-top\">\\\\n                                    <div class=\"contact-wrapper mR-10\">\\\\n                                        <hr class=\"hr-m\">\\\\n                                        <div class=\"fl\" style=\"width: 100%;margin-top: 30px;\"><p>Redbus India Private Limited is committed to resolving customer concerns and grievances. We request our customers to contact our customer care representatives on the numbers provided on our website or reach us via our <strong><a href=\"https://www.redbus.in/info/redcare\">Self-Help page</a></strong> for quick resolution of any concerns or grievances. </p><p>\\\\n                                    </div>\\\\n                                </div>\\\\n                            </td>\\\\n                        </tr>\\\\n                </tbody>\\\\n            </table>\\\\n        </div>\\\\n\\\\n        <div>\\\\n            \\\\n                <div class=\"fl\" style=\"width: 50%; height: 5em; background-color: #e5e5e5;\">\\\\n                    <div style=\"margin-left: 33%\">\\\\n\\\\n                        <div class=\"contact_footer\">\\\\n                            \\\\n                        </div>\\\\n                        <div style=\"margin-bottom: 15px;\">\\\\n                           \\\\n                        </div>\\\\n\\\\n                    </div>\\\\n                </div>\\\\n            \\\\n            \\\\n                <div class=\"fl\" style=\"width: 50%; height: 5em; background-color: #e5e5e5;\">\\\\n                    <div>\\\\n                        <div class=\"contact_footer\">\\\\n                           \\\\n                        </div>\\\\n                        <div style=\"margin-bottom: 15px;\">\\\\n                          \\\\n                        </div>\\\\n\\\\n                    </div>\\\\n\\\\n                </div>\\\\n            \\\\n\\\\n        </div>\\\\n\\\\n        <div> <br /> <br /></div>\\\\n        </div>\\\\n    \\\\n</div>\\\\n\\\\n        </div>\\\\n        <div class=\"exit-reshedule-confirm hide\">\\\\n           \\\\n            <p>Are you sure you want to go back?</p>\\\\n            <div class=\"exit-btns-grp\">\\\\n                <button type=\"button\" class=\"exit-reschedule-btns\" id=\"exit-reschedule\">Yes</button>\\\\n                <button type=\"button\" class=\"exit-reschedule-btns\" >No</button>\\\\n\\\\n            </div>\\\\n        </div>\\\\n                              <footer id=\\\\\\'rh_footer_new\\\\\\' style=\"background: #f7f7f7;\">\\\\n                    \\\\n<style>\\\\n    .rb_footer{\\\\n        background-color: #F7F7F7;\\\\n        color: #3e3e52;\\\\n        padding: 3rem 7.5rem 2rem;\\\\n        display: flex;\\\\n        flex-direction: column;\\\\n        gap: 2rem;\\\\n        line-height: 20px;\\\\n    }\\\\n     .footer_link_section {\\\\n            &:before {\\\\n                content: unset;\\\\n            }\\\\n     }\\\\n     .social_icon::before {\\\\n            color: #000000;\\\\n            font-size: 1.5rem;\\\\n        }\\\\n</style>\\\\n\\\\n<div class=\"rb_footer\" style=\"max-width: 1200px; margin: auto; padding-left: 0; padding-right: 0;\">\\\\n    <ul class=\"footer_links\" style=\" display: flex; width: 100%; justify-content: space-between;\">\\\\n        <li class=\"footer_link_section main_footer_item\" style=\"display: flex; flex-direction: column; gap: 0.5rem; width: 17rem;\">\\\\n            <div class=\"footer_main_logos\">\\\\n                 <picture>\\\\n                    <source srcset=\"https://s3.rdbuz.com/Images/rdc/rdc-redbus-logo.webp\" type=\"image/webp\">\\\\n                    <img src=\"https://s3.rdbuz.com/Images/rdc/rdc-redbus-logo.svg\" alt=\"redBus\" title=\"redBus\" class=\"rb_footer_logo\" style=\"width: 6.25rem; height: 4.1rem;\">\\\\n                </picture>\\\\n            </div>\\\\n            <span class=\"footer_text\">redBus is the world&#x27;s largest online bus ticket booking service trusted by over 25 million happy customers globally. redBus offers bus ticket booking through its website, iOS and Android mobile apps for all major routes.</span>\\\\n        </li>\\\\n                <li class=\"footer_link_section\" id=\"about_redbus_title_footer\" style=\"display: flex; flex-direction: column; gap: 0.5rem;\">\\\\n                    <strong class=\"footer_link_section_title\" style=\"font-size: 1.125rem; color: #1d1d1d; margin: 0;\">About redBus</strong>\\\\n                            <a class=\"footer_link_section_item footer_link_new\" href=\"https://www.redbus.in/info/aboutus\" id=\"about_us_footer\" target=\"_blank\"  style=\"color: #3e3e52;\">\\\\n                                About us\\\\n                            </a>\\\\n                            <a class=\"footer_link_section_item footer_link_new\" href=\"https://www.redbus.in/info/Investors\" id=\"investor_relations_footer\" target=\"_blank\"  style=\"color: #3e3e52;\">\\\\n                                Investor Relations\\\\n                            </a>\\\\n                            <a class=\"footer_link_section_item footer_link_new\" href=\"https://www.redbus.in/info/contactus\" id=\"contact_us_footer\" target=\"_blank\"  style=\"color: #3e3e52;\">\\\\n                                Contact us\\\\n                            </a>\\\\n                            <a class=\"footer_link_section_item footer_link_new\" href=\"https://www.redbus.in/info/mobile\" id=\"redbus_on_bus_footer\" target=\"_blank\"  style=\"color: #3e3e52;\">\\\\n                                redBus on mobile\\\\n                            </a>\\\\n                            <a class=\"footer_link_section_item footer_link_new\" href=\"https://www.redbus.in/sitemap.html\" id=\"sitemap_footer\" target=\"_blank\"  style=\"color: #3e3e52;\">\\\\n                                Sitemap\\\\n                            </a>\\\\n                            <a class=\"footer_link_section_item footer_link_new\" href=\"https://www.redbus.in/info/offerTerms\" id=\"offers_footer\" target=\"_blank\"  style=\"color: #3e3e52;\">\\\\n                                Offers\\\\n                            </a>\\\\n                            <a class=\"footer_link_section_item footer_link_new\" href=\"https://www.redbus.in/careers\" id=\"careers_footer\" target=\"_blank\"  style=\"color: #3e3e52;\">\\\\n                                Careers\\\\n                            </a>\\\\n                            <a class=\"footer_link_section_item footer_link_new\" href=\"https://www.redbus.in/values\" id=\"values_footer\" target=\"_blank\"  style=\"color: #3e3e52;\">\\\\n                                Values\\\\n                            </a>\\\\n                </li>\\\\n                <li class=\"footer_link_section\" id=\"info_title_footer\" style=\"display: flex; flex-direction: column; gap: 0.5rem;\">\\\\n                    <strong class=\"footer_link_section_title\" style=\"font-size: 1.125rem; color: #1d1d1d; margin: 0;\">Info</strong>\\\\n                            <a class=\"footer_link_section_item footer_link_new\" href=\"https://www.redbus.in/info/termscondition\" id=\"terms_n_conditions_footer\" target=\"_blank\"  style=\"color: #3e3e52;\">\\\\n                                T&amp;C\\\\n                            </a>\\\\n                            <a class=\"footer_link_section_item footer_link_new\" href=\"https://www.redbus.in/info/privacypolicy\" id=\"privacy_policy_footer\" target=\"_blank\"  style=\"color: #3e3e52;\">\\\\n                                Privacy policy\\\\n                            </a>\\\\n                            <a class=\"footer_link_section_item footer_link_new\" href=\"https://www.redbus.in/info/faq\" id=\"faq_footer\" target=\"_blank\"  style=\"color: #3e3e52;\">\\\\n                                FAQ\\\\n                            </a>\\\\n                            <a class=\"footer_link_section_item footer_link_new\" href=\"https://blog.redbus.in\" id=\"blog_footer\" target=\"_blank\"  style=\"color: #3e3e52;\">\\\\n                                Blog\\\\n                            </a>\\\\n                            <a class=\"footer_link_section_item footer_link_new\" href=\"https://onboardvendor.redbus.in/\" id=\"bus_operator_registration_footer\" target=\"_blank\"  style=\"color: #3e3e52;\">\\\\n                                Bus operator registration\\\\n                            </a>\\\\n                            <a class=\"footer_link_section_item footer_link_new\" href=\"https://in3.seatseller.travel/\" id=\"agent_registration_footer\" target=\"_blank\"  style=\"color: #3e3e52;\">\\\\n                                Agent registration\\\\n                            </a>\\\\n                            <a class=\"footer_link_section_item footer_link_new\" href=\"https://www.acko.com/\" id=\"insurance_partner_footer\" target=\"_blank\"  style=\"color: #3e3e52;\">\\\\n                                Insurance partner\\\\n                            </a>\\\\n                            <a class=\"footer_link_section_item footer_link_new\" href=\"https://www.redbus.in/info/useragreement\" id=\"user_agreement_footer\" target=\"_blank\"  style=\"color: #3e3e52;\">\\\\n                                User agreement\\\\n                            </a>\\\\n                            <a class=\"footer_link_section_item footer_link_new\" href=\"https://www.redbus.in/primo/primo-service\" target=\"_blank\"  style=\"color: #3e3e52;\">\\\\n                                Primo Bus\\\\n                            </a>\\\\n                            <a class=\"footer_link_section_item footer_link_new\" href=\"https://www.redbus.in/bus-timetable\" target=\"_blank\"  style=\"color: #3e3e52;\">\\\\n                                Bus Timetable\\\\n                            </a>\\\\n                </li>\\\\n                <li class=\"footer_link_section\" id=\"global_sites_title_footer\" style=\"display: flex; flex-direction: column; gap: 0.5rem;\">\\\\n                    <strong class=\"footer_link_section_title\" style=\"font-size: 1.125rem; color: #1d1d1d; margin: 0;\">Global Sites</strong>\\\\n                            <a class=\"footer_link_section_item footer_link_new\" href=\"https://www.redbus.in/\" id=\"India_site_footer\" target=\"_blank\"  style=\"color: #3e3e52;\">\\\\n                                India\\\\n                            </a>\\\\n                            <a class=\"footer_link_section_item footer_link_new\" href=\"https://www.redbus.sg/\" id=\"singapore_site_footer\" target=\"_blank\"  style=\"color: #3e3e52;\">\\\\n                                Singapore\\\\n                            </a>\\\\n                            <a class=\"footer_link_section_item footer_link_new\" href=\"https://www.redbus.my/\" id=\"malaysia_site_footer\" target=\"_blank\"  style=\"color: #3e3e52;\">\\\\n                                Malaysia\\\\n                            </a>\\\\n                            <a class=\"footer_link_section_item footer_link_new\" href=\"https://www.redbus.id/\" id=\"indonesia_site_footer\" target=\"_blank\"  style=\"color: #3e3e52;\">\\\\n                                Indonesia\\\\n                            </a>\\\\n                            <a class=\"footer_link_section_item footer_link_new\" href=\"https://www.redbus.pe/\" id=\"peru_site_footer\" target=\"_blank\"  style=\"color: #3e3e52;\">\\\\n                                Peru\\\\n                            </a>\\\\n                            <a class=\"footer_link_section_item footer_link_new\" href=\"https://www.redbus.co/\" id=\"colombia_site_footer\" target=\"_blank\"  style=\"color: #3e3e52;\">\\\\n                                Colombia\\\\n                            </a>\\\\n                            <a class=\"footer_link_section_item footer_link_new\" href=\"https://www.redbus.com.kh/\" id=\"cambodia_site_footer\" target=\"_blank\"  style=\"color: #3e3e52;\">\\\\n                                Cambodia\\\\n                            </a>\\\\n                            <a class=\"footer_link_section_item footer_link_new\" href=\"https://www.redbus.vn/\" id=\"vietnam_site_footer\" target=\"_blank\"  style=\"color: #3e3e52;\">\\\\n                                Vietnam\\\\n                            </a>\\\\n                </li>\\\\n                <li class=\"footer_link_section\" id=\"our_partners_title_footer\" style=\"display: flex; flex-direction: column; gap: 0.5rem;\">\\\\n                    <strong class=\"footer_link_section_title\" style=\"font-size: 1.125rem; color: #1d1d1d; margin: 0;\">Our Partners</strong>\\\\n                            <a class=\"footer_link_section_item footer_link_new\" href=\"https://www.goibibo.com/bus/\" id=\"goibibo_bus_footer\" target=\"_blank\" rel=\"nofollow\" style=\"color: #3e3e52;\">\\\\n                                Goibibo Bus\\\\n                            </a>\\\\n                            <a class=\"footer_link_section_item footer_link_new\" href=\"https://www.goibibo.com/hotels/\" id=\"goibibo_hotels_footer\" target=\"_blank\" rel=\"nofollow\" style=\"color: #3e3e52;\">\\\\n                                Goibibo Hotels\\\\n                            </a>\\\\n                            <a class=\"footer_link_section_item footer_link_new\" href=\"https://www.makemytrip.com/hotels/\" id=\"makemytrip_hotels_footer\" target=\"_blank\" rel=\"nofollow\" style=\"color: #3e3e52;\">\\\\n                                Makemytrip Hotels\\\\n                            </a>\\\\n                </li>\\\\n    </ul>\\\\n    <div class=\"horizontal_seperator\" style=\"background-color: #e5e5e5; height: 1px; width: 100%;\"></div>\\\\n    <div class=\"copyright_social_section\" style=\"display: flex; justify-content: space-between;\">\\\\n        <span class=\"footer_copyright_text\">&#x24B8; 2025 Redbus India Pvt Ltd. All rights reserved</span>\\\\n            <div class=\"social_section\" style=\"display: flex; gap: 1.5rem;\">\\\\n                        <a class=\"social_icon_item footer_link_new\" id=\"redbus_facebook\" href=\"https://www.facebook.com/redbus.in/\" target=\"_blank\" style=\"cursor: pointer;\">\\\\n                                <img src=\"https://st.redbus.in/web/images/layout/social_facebook_new.svg\" class=\"social_img\" alt=\"redbus_facebook\" loading=\"lazy\" style=\" width: 1.5rem; height: 1.5rem;\">\\\\n                        </a>\\\\n                        <a class=\"social_icon_item footer_link_new\" id=\"redbus_linkedin\" href=\"https://in.linkedin.com/company/redbus_2/\" target=\"_blank\" style=\"cursor: pointer;\">\\\\n                                <img src=\"https://st.redbus.in/web/images/layout/social_linkedin_new.svg\" class=\"social_img\" alt=\"redbus_linkedin\" loading=\"lazy\" style=\" width: 1.5rem; height: 1.5rem;\">\\\\n                        </a>\\\\n                        <a class=\"social_icon_item footer_link_new\" id=\"redbus_twitter\" href=\"https://twitter.com/redBus_in/\" target=\"_blank\" style=\"cursor: pointer;\">\\\\n                                <img src=\"https://st.redbus.in/web/images/layout/social_twitter_new.svg\" class=\"social_img\" alt=\"redbus_twitter\" loading=\"lazy\" style=\" width: 1.5rem; height: 1.5rem;\">\\\\n                        </a>\\\\n                        <a class=\"social_icon_item footer_link_new\" id=\"redbus_instagram\" href=\"https://www.instagram.com/accounts/login/?next=/redbusindia/\" target=\"_blank\" style=\"cursor: pointer;\">\\\\n                                <img src=\"https://st.redbus.in/web/images/layout/social_instagram_new.svg\" class=\"social_img\" alt=\"redbus_instagram\" loading=\"lazy\" style=\" width: 1.5rem; height: 1.5rem;\">\\\\n                        </a>\\\\n            </div>\\\\n    </div>\\\\n</div>\\\\n                </footer>\\\\n    </section>\\\\n    <div class=\"msg-header\">\\\\n        <div class=\"msg-success\">\\\\n            <div>\\\\n                <em>\\\\xe2\\\\x9c\\\\x94</em>\\\\n                <span id=\"nf_success\"></span>\\\\n            </div>\\\\n            <span class=\"nf-close\">\\\\xe2\\\\x9c\\\\x96</span>\\\\n        </div>\\\\n        <div class=\"msg-error\">\\\\n            <div>\\\\n                <em>\\\\xe2\\\\x9c\\\\x96</em>\\\\n                <span id=\"nf_error\"></span>\\\\n            </div>\\\\n            <span class=\"nf-close\">\\\\xe2\\\\x9c\\\\x96</span>\\\\n        </div>\\\\n        <div class=\"msg-info\">\\\\n            <div>\\\\n                <em>\\\\xc2\\\\xa1</em>\\\\n                <span id=\"nf_info\"></span>\\\\n            </div>\\\\n            <span class=\"nf-close\">\\\\xe2\\\\x9c\\\\x96</span>\\\\n        </div>\\\\n        <div class=\"msg-notice\">\\\\n            <div>\\\\n                <em>\\\\xe2\\\\x9a\\\\xa0</em>\\\\n                <span id=\"nf_notice\"></span>\\\\n            </div>\\\\n            <span class=\"nf-close\">\\\\xe2\\\\x9c\\\\x96</span>\\\\n        </div>\\\\n    </div>\\\\n            <!-- Google Tag Manager -->\\\\n        <noscript>\\\\n            <iframe src=\"//www.googletagmanager.com/ns.html?id=GTM-TCFTX7\"\\\\n                    height=\"0\" width=\"0\" style=\"display:none;visibility:hidden\"></iframe>\\\\n        </noscript>\\\\n        <script>\\\\n            (function (w, d, s, l, i) {\\\\n                w[l] = w[l] || []; w[l].push({\\\\n                    \\\\\\'gtm.start\\\\\\':\\\\n                    new Date().getTime(), event: \\\\\\'gtm.js\\\\\\'\\\\n                }); var f = d.getElementsByTagName(s)[0],\\\\n                j = d.createElement(s), dl = l != \\\\\\'dataLayer\\\\\\' ? \\\\\\'&l=\\\\\\' + l : \\\\\\'\\\\\\'; j.defer = true; j.src =\\\\n                \\\\\\'//www.googletagmanager.com/gtm.js?id=\\\\\\' + i + dl; f.parentNode.insertBefore(j, f);\\\\n            })(window, document, \\\\\\'script\\\\\\', \\\\\\'dataLayer\\\\\\', \\\\\\'GTM-TCFTX7\\\\\\');</script>\\\\n        <!-- End Google Tag Manager -->\\\\n    <script>\\\\n          if (\\\\\\'serviceWorker\\\\\\' in navigator) {\\\\n            navigator.serviceWorker.register(\\\\\\'/serviceworker.js?v=3\\\\\\').then(function(registration) {\\\\n            }, function(err) {\\\\n                  });\\\\n            }\\\\n      </script>\\\\n    <script>\\\\n        var IS_NEW_CONTEXTUAL_LOGIN_ENABLED = true;\\\\n        var isLanguageFlag = false;\\\\n        var flagstoLanguage = null;\\\\n        var showRDCHome = false;\\\\n        var walletBalConfig = null; \\\\n        var isRewardsEnabled = true;\\\\n        var calendarObj = null;\\\\n        var countryspecificdate = \\\\\\'2025/02/05\\\\\\';\\\\n        var jsloggerURL=\\\\\\'//logs.redbus.com/logger/postErr\\\\\\';\\\\n        var callTripsApi =\\\\\\'True\\\\\\';\\\\n        var tripsRequestCount =\\\\\\'10\\\\\\';\\\\n        var SECURE_COOKIE = true;\\\\n        var recaptchaSiteKey = \\\\\\'6Lclx6UZAAAAAAJPzjIzuni5BEHrRGUzU9Rz87HS\\\\\\';\\\\n        var abBucket = \\\\\\'\\\\\\';\\\\n        var isNewHeaderFooterShown = true;\\\\n        var buildVersion = \"PROD_f6c7974e5\";\\\\n        var defaultLanguage = \\\\\\'en\\\\\\';\\\\n        if(jsloggerURL && jsloggerURL!==\"\")\\\\n        {\\\\n      //  console.log(navigator.userAgent);\\\\n            window.onerror = function (msg, url, lineNo, columnNo, error) {\\\\n                var message =\\\\\\'\\\\\\';\\\\n                var string = msg.toLowerCase();\\\\n                var substring = \"script error\";\\\\n                if (string.indexOf(substring) > -1){\\\\n                    console.log(\\\\\\'Script Error: See Browser Console for Detail\\\\\\');\\\\n                } else {\\\\n                     message = {\\\\n                        \\\\\\'Agent\\\\\\':\\\\\\'WEB_DIRECT\\\\\\',\\\\n                        \\\\\\'Message\\\\\\':msg,\\\\n                        \\\\\\'URL\\\\\\': url,\\\\n                        \\\\\\'Line\\\\\\':  lineNo,\\\\n                        \\\\\\'Column\\\\\\': columnNo,\\\\n                        \\\\\\'Error object\\\\\\': JSON.stringify(error),\\\\n                        \\\\\\'User Agent\\\\\\':navigator.userAgent,\\\\n                        \\\\\\'URL\\\\\\':location.href\\\\n                    };\\\\n\\\\n                }\\\\n                /*var http = new XMLHttpRequest();\\\\n                var url = jsloggerURL;\\\\n                var params = JSON.stringify(message);\\\\n                http.open(\"POST\", url, true);\\\\n                http.setRequestHeader(\"Content-type\", \"application/json\");\\\\n                http.send(params);*/\\\\n                 var http = new XMLHttpRequest();\\\\n                var  o = \"\";\\\\n                for (var n in message){\\\\n                    o += encodeURIComponent(n) + \"=\" + encodeURIComponent(message[n]) + \"&\";\\\\n                }\\\\n                var url = jsloggerURL+\\\\\\'?\\\\\\'+o;\\\\n                http.open(\"GET\", url, true);\\\\n                http.setRequestHeader(\"Content-type\", \"application/json\");\\\\n                http.send();\\\\n                return false;\\\\n            };\\\\n        }\\\\n    </script>\\\\n    <script>\\\\n    function setCookie(e,r,n){var t=new Date;t.setTime(t.getTime()+24*n*60*60*1e3);var o=\"expires=\"+t.toUTCString();document.cookie=e+\"=\"+r+\";\"+o+\";path=/\"}\\\\n    function getCookie(e){return document.cookie.length>0&&(c_start=document.cookie.indexOf(e+\"=\"),-1!=c_start)?(c_start=c_start+e.length+1,c_end=document.cookie.indexOf(\";\",c_start),-1==c_end&&(c_end=document.cookie.length),unescape(document.cookie.substring(c_start,c_end))):\"\"}var connection = navigator.connection || navigator.mozConnection || navigator.webkitConnection;var type = connection && connection.effectiveType || \"-\"\\\\n\\\\n        let enableBrowserFP = \\\\\\'True\\\\\\';\\\\n        \\\\n        let isbrowserfp = enableBrowserFP.toLowerCase() === \"true\" && (!getCookie(\"isBrowserFP\") || !getCookie(\"rb_fpData\"));\\\\n        setTimeout(()=>{\\\\n           if(isbrowserfp) {\\\\n                const filepath = \\\\\\'/javascripts/BrowserFP.145b0a4b828a5e4e27d7.bundle.js\\\\\\';\\\\n                const fileref = document.createElement(\\\\\\'script\\\\\\');\\\\n                const head = document.getElementsByTagName(\\\\\\'head\\\\\\')[0];\\\\n                fileref.setAttribute(\\\\\\'type\\\\\\', \\\\\\'text/javascript\\\\\\');\\\\n                fileref.setAttribute(\\\\\\'src\\\\\\', filepath);\\\\n                fileref.setAttribute(\\\\\\'defer\\\\\\', \\\\\\'defer\\\\\\');\\\\n                head.appendChild(fileref);\\\\n            }\\\\n        }, 4000);\\\\n\\\\n        window.onload = resetCookie;\\\\n        window.scroll = resetCookie;\\\\n        window.ontouchstart = resetCookie;\\\\n        window.onclick = resetCookie;\\\\n        window.onkeypress = resetCookie;\\\\n\\\\n        function resetCookie() {  \\\\n          let mriSessionId = getCookie(\"mriSessionId\");\\\\n          let mriClientIdSetDateString = getCookie(\"mriClientIdSetDate\");\\\\n\\\\n          if(mriClientIdSetDateString) {\\\\n            const curDate = new Date();\\\\n            const setDate = new Date(mriClientIdSetDateString);\\\\n            if(!((setDate.getDate() === curDate.getDate()) && (setDate.getMonth() === curDate.getMonth()) && (setDate.getFullYear() === curDate.getFullYear()))) {\\\\n              const mriClientId = getCookie(\"mriClientId\");\\\\n              mriClientId && setCookie(\"mriClientId\", mriClientId, 365);\\\\n              mriClientId && setCookie(\"mriClientIdSetDate\", curDate);\\\\n            }\\\\n          }\\\\n          mriSessionId && setCookie(\"mriSessionId\", mriSessionId, 0.0208333)\\\\n      }\\\\n\\\\n\\\\n        // Load beacon for Riskified\\\\n        const isRiskifiedEnabled = true;\\\\n        if(!isRiskifiedEnabled){ \\\\n            var match = document.cookie.match(new RegExp(\\\\\\'(^| )deviceSessionId=([^;]+)\\\\\\'));\\\\n            var sessionId = \"\";\\\\n            if (match) sessionId = match[2];\\\\n            //<![CDATA[\\\\n            (function() {\\\\n                function riskifiedBeaconLoad() {\\\\n                    var store_domain = window.location.host;\\\\n                    var session_id = sessionId;\\\\n                    var url = (\\\\\\'https:\\\\\\' == document.location.protocol ? \\\\\\'https://\\\\\\' : \\\\\\'http://\\\\\\')\\\\n                    + \"beacon.riskified.com?shop=\" + store_domain + \"&sid=\" + session_id;\\\\n                    var s = document.createElement(\\\\\\'script\\\\\\');\\\\n                    s.type = \\\\\\'text/javascript\\\\\\';\\\\n                    s.async = true;\\\\n                    s.src = url;\\\\n                    var x = document.getElementsByTagName(\\\\\\'script\\\\\\')[0];\\\\n                    x.parentNode.insertBefore(s, x);\\\\n                }\\\\n                if (window.attachEvent)\\\\n                    window.attachEvent(\\\\\\'onload\\\\\\', riskifiedBeaconLoad)\\\\n                else\\\\n                    window.addEventListener(\\\\\\'load\\\\\\', riskifiedBeaconLoad, false);\\\\n            })();\\\\n        }\\\\n        //]]>\\\\n    </script>\\\\n    <!-- <script>\\\\n      var branchKey = \\\\\\'key_live_pmMiKmugKG0cjSWqKr00jdfdwFhW20M0\\\\\\';\\\\n      window.branchKey = branchKey;\\\\n      function loadBranch(){\\\\n        if(window.branchKey){\\\\n          if(!window.branch){ \\\\n            setTimeout(function() {\\\\n              (function(b,r,a,n,c,h,_,s,d,k){if(!b[n]||!b[n]._q){for(;s<_.length;)c(h,_[s++]);d=r.createElement(a);d.async=1;d.src=\"https://cdn.branch.io/branch-latest.min.js\";k=r.getElementsByTagName(a)[0];k.parentNode.insertBefore(d,k);b[n]=h}})(window,document,\"script\",\"branch\",function(b,r){b[r]=function(){b._q.push([r,arguments])}},{_q:[],_v:1},\"addListener applyCode autoAppIndex banner closeBanner closeJourney creditHistory credits data deepview deepviewCta first getCode init link logout redeem referrals removeListener sendSMS setBranchViewData setIdentity track validateCode trackCommerceEvent logEvent disableTracking getBrowserFingerprintId\".split(\" \"), 0);\\\\n              branch.init(`${window.branchKey}`, function(err, data) {\\\\n                branch.getBrowserFingerprintId(function(err, data){\\\\n                  if(!err){\\\\n                    setCookie(\"Branch_BrowserFingerPrintID\", data);\\\\n                  };\\\\n                });\\\\n              });\\\\n            }, 3000)\\\\n          }\\\\n        }\\\\n      }\\\\n      window.addEventListener(\\\\\\'DOMContentLoaded\\\\\\', () => {\\\\n         loadBranch();   \\\\n      })\\\\n    </script> -->\\\\n    \\\\n\\\\n    \\\\n        \\\\n\\\\n    <script  src=\"/javascripts/vendor.d4d8f2abad7d98c8eb16.bundle.js?root=rbus\" type=\"text/javascript\"></script>\\\\n        <script src=\"/javascripts/handleBarAndJquery.0f8ba74bcb58a37a334b.bundle.js?root=rbus\" type=\"text/javascript\" defer></script>\\\\n                <script src=\"/javascripts/headerFooterV2.c56ddb08d98cc63e842e.bundle.js?root=rbus\" defer></script>\\\\n            <script src=\"/javascripts/layout.7d2109e8ce3644c2685a.bundle.js?root=rbus\" type=\"text/javascript\" defer></script>\\\\n    <script defer>\\\\n    let rdchead = document.getElementById(\"rdc-header\");\\\\n    if (rdchead) {\\\\n        window.addEventListener(\\\\\\'scroll\\\\\\', ()=> {\\\\n        if (window.scrollY >= rdchead.offsetHeight && !rdchead.classList.contains(\"shadow\")) {\\\\n            rdchead.classList.add(\"shadow\");\\\\n        }\\\\n        else if (window.scrollY < rdchead.offsetHeight && rdchead.classList.contains(\"shadow\")) {\\\\n            rdchead.classList.remove(\"shadow\");\\\\n        }\\\\n      })\\\\n    }\\\\n    </script>\\\\n    \\\\n\\\\n</body>\\\\n</html>\\\\n\\''"
      ]
     },
     "execution_count": 27,
     "metadata": {},
     "output_type": "execute_result"
    }
   ],
   "source": [
    "# Webscrapping\n",
    "from urllib import *\n",
    "u=request.urlopen(\"https://www.redbus.in/info/contactus\")\n",
    "t=str(u.read())\n",
    "t"
   ]
  },
  {
   "cell_type": "code",
   "execution_count": 28,
   "metadata": {},
   "outputs": [
    {
     "data": {
      "text/plain": [
       "['+919945600000', '+919945600000']"
      ]
     },
     "execution_count": 28,
     "metadata": {},
     "output_type": "execute_result"
    }
   ],
   "source": [
    "x=findall(r\"[+]{1}[0-9]{12}\",t)\n",
    "x"
   ]
  },
  {
   "cell_type": "code",
   "execution_count": 48,
   "metadata": {},
   "outputs": [
    {
     "name": "stdout",
     "output_type": "stream",
     "text": [
      "https://fidelity//rest//v1.2.3\n",
      "\n",
      "http://fidelity-123//rest/1\n",
      "\n",
      "https://fidelity//rest//v1.0.0\n"
     ]
    },
    {
     "data": {
      "text/plain": [
       "[['https://fidelity//rest//v1.2.3'], [], ['https://fidelity//rest//v1.0.0']]"
      ]
     },
     "execution_count": 48,
     "metadata": {},
     "output_type": "execute_result"
    }
   ],
   "source": [
    "with open(\"text.txt\",\"r\") as f:\n",
    "    l=f.readlines()\n",
    "ans=[]\n",
    "for x in l:\n",
    "    print(x)\n",
    "    ans.append(findall(r\"\\Ahttps://fidelity//rest//v[0-9]{1}.[0-9]{1}.[0-9]{1}\",x.strip()))\n",
    "ans"
   ]
  },
  {
   "cell_type": "markdown",
   "metadata": {},
   "source": [
    "LOGGING"
   ]
  },
  {
   "cell_type": "code",
   "execution_count": 50,
   "metadata": {},
   "outputs": [
    {
     "name": "stdout",
     "output_type": "stream",
     "text": [
      "Logging Demo\n"
     ]
    }
   ],
   "source": [
    "import logging\n",
    "\n",
    "logging.basicConfig(filename=\"log.txt\",level=logging.WARNING,filemode=\"a\")\n",
    "print(\"Logging Demo\")\n",
    "logging.debug(\"Demo information\")\n",
    "logging.info(\"info information\")\n",
    "logging.warning(\"warning information\")"
   ]
  }
 ],
 "metadata": {
  "kernelspec": {
   "display_name": "Python 3",
   "language": "python",
   "name": "python3"
  },
  "language_info": {
   "codemirror_mode": {
    "name": "ipython",
    "version": 3
   },
   "file_extension": ".py",
   "mimetype": "text/x-python",
   "name": "python",
   "nbconvert_exporter": "python",
   "pygments_lexer": "ipython3",
   "version": "3.12.3"
  }
 },
 "nbformat": 4,
 "nbformat_minor": 2
}
