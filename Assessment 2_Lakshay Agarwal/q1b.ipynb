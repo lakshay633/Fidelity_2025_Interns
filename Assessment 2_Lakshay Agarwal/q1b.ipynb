{
 "cells": [
  {
   "cell_type": "code",
   "execution_count": 14,
   "metadata": {},
   "outputs": [
    {
     "name": "stdout",
     "output_type": "stream",
     "text": [
      "[{'pId': 1, 'name': 'merc', 'diam': 1, 'star': 'sun', 'rings': False}, {'pId': 2, 'name': 'venus', 'diam': 2, 'star': 'sun', 'rings': False}]\n",
      "{'pId': 1, 'name': 'merc', 'diam': 1, 'star': 'sun', 'rings': False}\n",
      "<class 'dict'>\n"
     ]
    }
   ],
   "source": [
    "from urllib import request\n",
    "import json\n",
    "\n",
    "u = request.urlopen(\"http://127.0.0.1:8000/q1a/planet/pre/\")\n",
    "t = u.read().decode('utf-8')\n",
    "a = json.loads(t)\n",
    "print(a)\n",
    "d=a[0]\n",
    "print(d)\n",
    "print(type(d))\n"
   ]
  }
 ],
 "metadata": {
  "kernelspec": {
   "display_name": "Python 3",
   "language": "python",
   "name": "python3"
  },
  "language_info": {
   "codemirror_mode": {
    "name": "ipython",
    "version": 3
   },
   "file_extension": ".py",
   "mimetype": "text/x-python",
   "name": "python",
   "nbconvert_exporter": "python",
   "pygments_lexer": "ipython3",
   "version": "3.12.3"
  }
 },
 "nbformat": 4,
 "nbformat_minor": 2
}
