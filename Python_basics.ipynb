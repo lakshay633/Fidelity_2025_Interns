{
 "cells": [
  {
   "cell_type": "code",
   "execution_count": 1,
   "metadata": {},
   "outputs": [
    {
     "name": "stdout",
     "output_type": "stream",
     "text": [
      "[100, 30, 70, 128.7, 140.4, 60, 234.0, 95, 157.95]\n"
     ]
    }
   ],
   "source": [
    "price_list=[100,30,70,110,120,60,200,95,135]\n",
    "gst=17\n",
    "updated_list=[]\n",
    "for x in price_list:\n",
    "    if x>100:\n",
    "        updated_list.append(x+x*0.01*gst)        # Adding gst of 17% for items price higher than 100\n",
    "    else:\n",
    "        updated_list.append(x)\n",
    "print(updated_list)"
   ]
  },
  {
   "cell_type": "code",
   "execution_count": null,
   "metadata": {},
   "outputs": [],
   "source": []
  }
 ],
 "metadata": {
  "kernelspec": {
   "display_name": "Python 3",
   "language": "python",
   "name": "python3"
  },
  "language_info": {
   "codemirror_mode": {
    "name": "ipython",
    "version": 3
   },
   "file_extension": ".py",
   "mimetype": "text/x-python",
   "name": "python",
   "nbconvert_exporter": "python",
   "pygments_lexer": "ipython3",
   "version": "3.12.3"
  }
 },
 "nbformat": 4,
 "nbformat_minor": 2
}
