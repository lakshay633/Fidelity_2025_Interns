{
 "cells": [
  {
   "cell_type": "markdown",
   "metadata": {},
   "source": [
    "OOPS"
   ]
  },
  {
   "cell_type": "code",
   "execution_count": 1,
   "metadata": {},
   "outputs": [],
   "source": [
    "class Student:       # 1st letter capital of class name\n",
    "    def __init__(self,name=\"Joe\" ,age=20):     #constructor/magic method # NO OVERLOADING OF CONSTRUCTOR\n",
    "        self.age = age       \n",
    "        self.name = name\n",
    "    def dsp(self):\n",
    "        print(self.name, self.age)    \n",
    "        \n",
    "# def Student():        this would get priority and variable would get the return value instead of becoming obj\n",
    "#     return \"hello\""
   ]
  },
  {
   "cell_type": "code",
   "execution_count": 3,
   "metadata": {},
   "outputs": [
    {
     "data": {
      "text/plain": [
       "'hello'"
      ]
     },
     "execution_count": 3,
     "metadata": {},
     "output_type": "execute_result"
    }
   ],
   "source": [
    "a=Student()\n",
    "a.dsp()"
   ]
  },
  {
   "cell_type": "code",
   "execution_count": 19,
   "metadata": {},
   "outputs": [
    {
     "name": "stdout",
     "output_type": "stream",
     "text": [
      "Bo 21\n"
     ]
    }
   ],
   "source": [
    "b=Student(\"Bo\",21)\n",
    "b.dsp()"
   ]
  },
  {
   "cell_type": "code",
   "execution_count": 15,
   "metadata": {},
   "outputs": [],
   "source": [
    "class Tp:\n",
    "    __a=10\n",
    "    def __init__(self):\n",
    "        self.b=20\n",
    "    def dsp(self):\n",
    "        print(self.__a,self.b)\n",
    "    @classmethod        #this method can be acessed by using class name without creating obj\n",
    "    def m1(cls):        #cls is keyword which refers to class... so now you can use the variables without making obj\n",
    "        print(cls.__a)    #cls.b cant be accessed as it can only "
   ]
  },
  {
   "cell_type": "code",
   "execution_count": 16,
   "metadata": {},
   "outputs": [
    {
     "name": "stdout",
     "output_type": "stream",
     "text": [
      "10 20\n"
     ]
    }
   ],
   "source": [
    "o=Tp()\n",
    "o.dsp()"
   ]
  },
  {
   "cell_type": "code",
   "execution_count": 17,
   "metadata": {},
   "outputs": [
    {
     "name": "stdout",
     "output_type": "stream",
     "text": [
      "10\n"
     ]
    }
   ],
   "source": [
    "Tp.m1()"
   ]
  },
  {
   "cell_type": "code",
   "execution_count": 18,
   "metadata": {},
   "outputs": [
    {
     "name": "stdout",
     "output_type": "stream",
     "text": [
      "20\n",
      "10\n",
      "10\n"
     ]
    }
   ],
   "source": [
    "class Tp:\n",
    "    __a = 10  # Private class variable (Name Mangled to _Tp__a) # This is DATA HIDING\n",
    "    \n",
    "    def __init__(self):\n",
    "        self.b = 20  # Instance variable\n",
    "\n",
    "    def dsp(self):\n",
    "        print(self.__a, self.b)  # ✅ Allowed inside the class\n",
    "\n",
    "    @classmethod\n",
    "    def m1(cls):\n",
    "        print(cls.__a)  # ✅ Allowed inside the class\n",
    "\n",
    "# Creating object\n",
    "obj = Tp()\n",
    "\n",
    "# obj.__a  ❌ This will raise an AttributeError (private variable)\n",
    "print(obj.b)  # ✅ Accessible (public variable)\n",
    "\n",
    "# Accessing private variable using name-mangling\n",
    "print(obj._Tp__a)  # ✅ Works, but should be avoided\n",
    "\n",
    "# Calling class method (which can access private variables)\n",
    "Tp.m1()  # ✅ Prints: 10\n",
    "\n",
    "# 🔹 Private variables (__var) are accessible inside the class but not outside.\n",
    "# 🔹 Python uses name mangling (_ClassName__var) to \"hide\" private attributes.\n",
    "# 🔹 Class methods (@classmethod) can access private class variables but not instance variables.\n",
    "# 🔹 Instance variables (self.var) belong to objects and can't be accessed through cls.\n"
   ]
  },
  {
   "cell_type": "code",
   "execution_count": 19,
   "metadata": {},
   "outputs": [],
   "source": [
    "class Customer:\n",
    "    name=\"\"\n",
    "    balance=0\n",
    "    def __init__(self, name, bal):\n",
    "        self.name=name\n",
    "        self.balance=bal\n",
    "    def deposit(self,amount):\n",
    "        self.balance=self.balance+amount\n",
    "        print(\"Money Deposited Successfully\")\n",
    "        print(\"Updated Balance is:\",self.balance)\n",
    "    def withdraw(self,amount):\n",
    "        if amount>self.balance:\n",
    "            print(\"ERROR: Insufficient Balance\")\n",
    "            return\n",
    "        self.balance=self.balance-amount\n",
    "        print(\"Money Withdrawn Successfully\")\n",
    "        print(\"Updated Balance is:\",self.balance)\n",
    "    def display(self):\n",
    "        print(\"Balance is:\",self.balance)"
   ]
  },
  {
   "cell_type": "code",
   "execution_count": 22,
   "metadata": {},
   "outputs": [
    {
     "name": "stdout",
     "output_type": "stream",
     "text": [
      "Balance is: 100000\n",
      "Money Withdrawn Successfully\n",
      "Updated Balance is: 50000\n",
      "Money Deposited Successfully\n",
      "Updated Balance is: 200000\n"
     ]
    }
   ],
   "source": [
    "c1=Customer(\"Lakshay\",100000)\n",
    "c1.display()\n",
    "c1.withdraw(50000)\n",
    "c1.deposit(150000)"
   ]
  },
  {
   "cell_type": "code",
   "execution_count": 2,
   "metadata": {},
   "outputs": [],
   "source": [
    "# \"HAS-A\" relationship  or  Composition\n",
    "class Engine:\n",
    "    a=10\n",
    "    def __init__(self):\n",
    "        self.b=20\n",
    "    def m1(self):\n",
    "        print(self.a)\n",
    "class Car:\n",
    "    def __init__(self):\n",
    "        self.engine=Engine() \n",
    "    def m2(self):\n",
    "        print(self.engine.a)\n",
    "        print(self.engine.b)\n",
    "        self.engine.m1()"
   ]
  },
  {
   "cell_type": "code",
   "execution_count": 4,
   "metadata": {},
   "outputs": [
    {
     "name": "stdout",
     "output_type": "stream",
     "text": [
      "10\n",
      "20\n",
      "10\n"
     ]
    }
   ],
   "source": [
    "c=Car()\n",
    "c.m2()"
   ]
  },
  {
   "cell_type": "code",
   "execution_count": 12,
   "metadata": {},
   "outputs": [],
   "source": [
    "class Car:\n",
    "    def __init__(self, name, model, colour):\n",
    "        self.name=name\n",
    "        self.model=model\n",
    "        self.colour=colour\n",
    "    def dsp(self):\n",
    "        print(self.name,self.model,self.colour)\n",
    "class Employee:\n",
    "    def __init__(self,name,id,car):\n",
    "        self.name=name\n",
    "        self.id=id\n",
    "        self.car=car        # It is Has A relationship (IF YOU PASS AN OBJ IN ARGS THEN ONLY!!)\n",
    "    def m(self):\n",
    "        print(self.name,self.id)\n",
    "        self.car.dsp()\n",
    "        "
   ]
  },
  {
   "cell_type": "code",
   "execution_count": 13,
   "metadata": {},
   "outputs": [
    {
     "name": "stdout",
     "output_type": "stream",
     "text": [
      "Lakshay 633\n",
      "BMW M5 Black\n"
     ]
    }
   ],
   "source": [
    "c1=Car(\"BMW\",\"M5\",\"Black\")\n",
    "e1=Employee(\"Lakshay\", 633,c1)\n",
    "e1.m()"
   ]
  },
  {
   "cell_type": "code",
   "execution_count": 14,
   "metadata": {},
   "outputs": [
    {
     "name": "stdout",
     "output_type": "stream",
     "text": [
      "static method\n",
      "None\n"
     ]
    }
   ],
   "source": [
    "# IS-A relationship  or Inheritence\n",
    "class P:\n",
    "    \n",
    "    a=10\n",
    "    def __init__(self):\n",
    "        self.b=20\n",
    "    \n",
    "    def m1(self):\n",
    "        print(\"Parent instance method\")\n",
    "    @classmethod\n",
    "    def m2(cls):\n",
    "        print(\"class method\")\n",
    "    \n",
    "    @staticmethod\n",
    "    def m3():\n",
    "        print(\"static method\")\n",
    "\n",
    "class C(P):\n",
    "    pass\n",
    "c=C()\n",
    "print(c.m3())"
   ]
  },
  {
   "cell_type": "code",
   "execution_count": 15,
   "metadata": {},
   "outputs": [],
   "source": [
    "class Person:\n",
    "    def __init__(self,n,a,id):\n",
    "        self.name=n\n",
    "        self.age=a\n",
    "        self.id=id\n",
    "    def m(self):\n",
    "        print(self.name,self.age,self.id)\n",
    "class Employee(Person):\n",
    "    def __init__(self, n, a, id,sal):\n",
    "        super().__init__(n, a, id)\n",
    "        self.salary=sal\n",
    "    def m(self):\n",
    "        print(self.name,self.age,self.id,self.salary)"
   ]
  },
  {
   "cell_type": "code",
   "execution_count": 17,
   "metadata": {},
   "outputs": [
    {
     "name": "stdout",
     "output_type": "stream",
     "text": [
      "A 10 1001\n",
      "B 11 1002 100000\n"
     ]
    }
   ],
   "source": [
    "p=Person(\"A\",10,1001)\n",
    "e=Employee(\"B\",11,1002,100000)\n",
    "p.m()\n",
    "e.m()"
   ]
  },
  {
   "cell_type": "code",
   "execution_count": 21,
   "metadata": {},
   "outputs": [
    {
     "name": "stdout",
     "output_type": "stream",
     "text": [
      "p1\n"
     ]
    },
    {
     "data": {
      "text/plain": [
       "[__main__.C, __main__.P1, __main__.P2, object]"
      ]
     },
     "execution_count": 21,
     "metadata": {},
     "output_type": "execute_result"
    }
   ],
   "source": [
    "# MRO\n",
    "class P1:\n",
    "    def m(self):\n",
    "        print(\"p1\")\n",
    "class P2:\n",
    "    def m(self):\n",
    "        print(\"p2\")\n",
    "class C(P1,P2):         # priority is decided here from left to right, p1 to p2\n",
    "    def a(self):\n",
    "        print(\"c\")\n",
    "\n",
    "c=C()\n",
    "c.m()     \n",
    "C.mro()"
   ]
  },
  {
   "cell_type": "code",
   "execution_count": 28,
   "metadata": {},
   "outputs": [
    {
     "name": "stdout",
     "output_type": "stream",
     "text": [
      "Name is L and age is 21.\n"
     ]
    }
   ],
   "source": [
    "class Stu:\n",
    "    def __init__(self,n,a):\n",
    "        self.name=n\n",
    "        self.age=a\n",
    "    def __str__(self):\n",
    "        return (\"Name is {0} and age is {1}.\".format(self.name,self.age))\n",
    "        # return f'name is {self.name} age is {self.age}.'\n",
    "s=Stu(\"L\",21)\n",
    "print(s)"
   ]
  },
  {
   "cell_type": "code",
   "execution_count": 31,
   "metadata": {},
   "outputs": [
    {
     "name": "stdout",
     "output_type": "stream",
     "text": [
      "100\n",
      "100\n"
     ]
    }
   ],
   "source": [
    "class S:\n",
    "    d=100\n",
    "s1=S()\n",
    "print(s1.d)\n",
    "print(S.d)"
   ]
  },
  {
   "cell_type": "code",
   "execution_count": 36,
   "metadata": {},
   "outputs": [
    {
     "name": "stdout",
     "output_type": "stream",
     "text": [
      "HE HE HE\n"
     ]
    }
   ],
   "source": [
    "# ABSTRACTION\n",
    "from abc import *       # abstract class can be implemented like this only (Abstract Based Class)\n",
    "class E(ABC):\n",
    "    @abstractmethod     # without this it would be a normal method\n",
    "    def m1(self):\n",
    "        pass            # abstract methods are always empty\n",
    "class F(E):\n",
    "    def m1(self):\n",
    "        print(\"HE HE HE\")\n",
    "\n",
    "o=F()\n",
    "o.m1()    "
   ]
  },
  {
   "cell_type": "code",
   "execution_count": 38,
   "metadata": {},
   "outputs": [
    {
     "name": "stdout",
     "output_type": "stream",
     "text": [
      "10\n",
      "20\n",
      "30\n",
      "10\n",
      "20\n",
      "30\n",
      "10\n",
      "20\n",
      "30\n"
     ]
    }
   ],
   "source": [
    "class Access:\n",
    "    x = 10       # Public variable\n",
    "    _y = 20      # Protected variable (convention only)\n",
    "    __z = 30     # Private variable (name-mangled)\n",
    "\n",
    "    def m1(self):\n",
    "        print(self.x)      # ✅ Accessible\n",
    "        print(self._y)     # ✅ Accessible\n",
    "        print(self.__z)    # ✅ Accessible inside class\n",
    "\n",
    "class Beta(Access):\n",
    "    def m2(self):\n",
    "        super().m1()\n",
    "\n",
    "# Creating objects\n",
    "a = Access()\n",
    "a.m1()\n",
    "\n",
    "b = Beta()\n",
    "b.m2()\n",
    "\n",
    "# Accessing variables\n",
    "print(Access.x)    # ✅ Allowed (Public)\n",
    "print(Access._y)   # ✅ Allowed (Protected, but still accessible)\n",
    "\n",
    "# print(Access.__z)  ❌ ERROR: Private variable (name-mangled)\n",
    "print(Access._Access__z)  # ✅ Allowed (But not recommended)\n",
    "\n",
    "# Public Variables (x) → Can be accessed anywhere.\n",
    "# Protected Variables (_y) → Can be accessed but should be used only within subclasses.\n",
    "# Private Variables (__z) → Cannot be accessed directly outside the class due to name mangling.\n"
   ]
  },
  {
   "cell_type": "markdown",
   "metadata": {},
   "source": [
    "EXCEPTION HANDLING"
   ]
  },
  {
   "cell_type": "code",
   "execution_count": 41,
   "metadata": {},
   "outputs": [
    {
     "ename": "ZeroDivisionError",
     "evalue": "division by zero",
     "output_type": "error",
     "traceback": [
      "\u001b[1;31m---------------------------------------------------------------------------\u001b[0m",
      "\u001b[1;31mZeroDivisionError\u001b[0m                         Traceback (most recent call last)",
      "Cell \u001b[1;32mIn[41], line 1\u001b[0m\n\u001b[1;32m----> 1\u001b[0m \u001b[38;5;28mprint\u001b[39m(\u001b[38;5;241;43m10\u001b[39;49m\u001b[38;5;241;43m/\u001b[39;49m\u001b[38;5;241;43m0\u001b[39;49m)\n\u001b[0;32m      2\u001b[0m \u001b[38;5;28mprint\u001b[39m(\u001b[38;5;124m\"\u001b[39m\u001b[38;5;124mhi\u001b[39m\u001b[38;5;124m\"\u001b[39m)\n",
      "\u001b[1;31mZeroDivisionError\u001b[0m: division by zero"
     ]
    }
   ],
   "source": [
    "x=int(input(\"Enter Numerator: \"))\n",
    "y=int(input(\"Enter Denomerator: \"))\n",
    "print(x/y)      #didnt execute"
   ]
  },
  {
   "cell_type": "code",
   "execution_count": 48,
   "metadata": {},
   "outputs": [
    {
     "name": "stdout",
     "output_type": "stream",
     "text": [
      "Oops!  invalid literal for int() with base 10: 'a'\n",
      "hi\n"
     ]
    }
   ],
   "source": [
    "try:\n",
    "    x=int(input(\"Enter Numerator: \"))\n",
    "    y=int(input(\"Enter Denomerator: \"))\n",
    "    print(x/y)        #risky code is kept in try block\n",
    "# except ZeroDivisionError:\n",
    "#     print(\"Denomerator can't be zero\")\n",
    "# except ValueError:\n",
    "#     print(\"Only no.s to be entered\")\n",
    "except Exception as msg:\n",
    "    print(\"Oops! \",msg)\n",
    "finally:                    #RECOMMENDED\n",
    "    print(\"hi\")"
   ]
  },
  {
   "cell_type": "code",
   "execution_count": 49,
   "metadata": {},
   "outputs": [
    {
     "ename": "TooYoungException",
     "evalue": "Please wait",
     "output_type": "error",
     "traceback": [
      "\u001b[1;31m---------------------------------------------------------------------------\u001b[0m",
      "\u001b[1;31mTooYoungException\u001b[0m                         Traceback (most recent call last)",
      "Cell \u001b[1;32mIn[49], line 7\u001b[0m\n\u001b[0;32m      5\u001b[0m age\u001b[38;5;241m=\u001b[39m\u001b[38;5;241m10\u001b[39m\n\u001b[0;32m      6\u001b[0m \u001b[38;5;28;01mif\u001b[39;00m age \u001b[38;5;241m<\u001b[39m \u001b[38;5;241m18\u001b[39m:\n\u001b[1;32m----> 7\u001b[0m     \u001b[38;5;28;01mraise\u001b[39;00m TooYoungException(\u001b[38;5;124m\"\u001b[39m\u001b[38;5;124mPlease wait\u001b[39m\u001b[38;5;124m\"\u001b[39m)\n",
      "\u001b[1;31mTooYoungException\u001b[0m: Please wait"
     ]
    }
   ],
   "source": [
    "class TooYoungException(Exception):\n",
    "    def __init__(self,msg):\n",
    "        self.msg = msg\n",
    "        \n",
    "age=10\n",
    "if age < 18:\n",
    "    raise TooYoungException(\"Please wait\")"
   ]
  },
  {
   "cell_type": "code",
   "execution_count": 53,
   "metadata": {},
   "outputs": [],
   "source": [
    "class InvalidID(Exception):\n",
    "    def __init__(self, msg):\n",
    "        self.msg=msg\n",
    "class Employee:\n",
    "    def __init__(self, name, dep, id):\n",
    "        self.name = name\n",
    "        self.dep = dep\n",
    "        if not id.isdigit():\n",
    "            raise InvalidID(\"Enter only numbers in ID\")\n",
    "        if len(id) < 4:\n",
    "            raise InvalidID(\"ID has to be 4 or more digits long\")\n",
    "        self.id = int(id)\n",
    "    def display(self):\n",
    "        print(f\"Name: {self.name}, Department: {self.dep}, ID: {self.id}\")\n",
    "    "
   ]
  },
  {
   "cell_type": "code",
   "execution_count": 59,
   "metadata": {},
   "outputs": [
    {
     "name": "stdout",
     "output_type": "stream",
     "text": [
      "Name: l, Department: fdf, ID: 1202\n"
     ]
    }
   ],
   "source": [
    "a=Employee(\"l\",\"fdf\",\"1202\")\n",
    "a.display()"
   ]
  },
  {
   "cell_type": "markdown",
   "metadata": {},
   "source": [
    "FILE HANDLING"
   ]
  },
  {
   "cell_type": "code",
   "execution_count": 84,
   "metadata": {},
   "outputs": [
    {
     "name": "stdout",
     "output_type": "stream",
     "text": [
      "19th\n",
      " jan\n"
     ]
    }
   ],
   "source": [
    "file = open(r\"C:/Users/kship/Desktop/New Text Document.txt\", \"r\")\n",
    "# file.read()\n",
    "print(file.read(4))             # no of characters\n",
    "print(file.read(4))             # cursor begins from where left \n",
    "file.close()"
   ]
  },
  {
   "cell_type": "code",
   "execution_count": 90,
   "metadata": {},
   "outputs": [
    {
     "name": "stdout",
     "output_type": "stream",
     "text": [
      "19th jan (DOJ=20 be ready on 7.45 in hotel lobby)\n",
      "\n"
     ]
    }
   ],
   "source": [
    "file = open(r\"C:/Users/kship/Desktop/New Text Document.txt\", \"r\")\n",
    "# print(file.readlines())\n",
    "print(file.readline())\n",
    "# print(file.read())\n",
    "file.close()"
   ]
  },
  {
   "cell_type": "code",
   "execution_count": 73,
   "metadata": {},
   "outputs": [],
   "source": [
    "file = open(\"text.txt\",\"w\")     # creates if not there\n",
    "file = open(\"text.txt\",\"a\")     # creates if not there"
   ]
  },
  {
   "cell_type": "code",
   "execution_count": null,
   "metadata": {},
   "outputs": [],
   "source": []
  }
 ],
 "metadata": {
  "kernelspec": {
   "display_name": "Python 3",
   "language": "python",
   "name": "python3"
  },
  "language_info": {
   "codemirror_mode": {
    "name": "ipython",
    "version": 3
   },
   "file_extension": ".py",
   "mimetype": "text/x-python",
   "name": "python",
   "nbconvert_exporter": "python",
   "pygments_lexer": "ipython3",
   "version": "3.12.3"
  }
 },
 "nbformat": 4,
 "nbformat_minor": 2
}
