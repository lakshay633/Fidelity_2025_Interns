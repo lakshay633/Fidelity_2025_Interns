{
 "cells": [
  {
   "cell_type": "code",
   "execution_count": 1,
   "metadata": {},
   "outputs": [
    {
     "data": {
      "text/plain": [
       "[100, 30, 70, 128.7, 140.4, 60, 234.0, 95, 157.95]"
      ]
     },
     "execution_count": 1,
     "metadata": {},
     "output_type": "execute_result"
    }
   ],
   "source": [
    "p_l=[100,30,70,110,120,60,200,95,135]\n",
    "gst=17\n",
    "n_l=[]\n",
    "for x in p_l:\n",
    "    if x>100:\n",
    "        n_l.append(x+x*0.01*gst)\n",
    "    else:\n",
    "        n_l.append(x)\n",
    "n_l"
   ]
  },
  {
   "cell_type": "code",
   "execution_count": 1,
   "metadata": {},
   "outputs": [
    {
     "name": "stdout",
     "output_type": "stream",
     "text": [
      "10\n",
      "60\n"
     ]
    }
   ],
   "source": [
    "def func(*a):\n",
    "    print(sum(a))\n",
    "func(10)\n",
    "func(10,20,30)"
   ]
  },
  {
   "cell_type": "code",
   "execution_count": 8,
   "metadata": {},
   "outputs": [
    {
     "name": "stdout",
     "output_type": "stream",
     "text": [
      "<class 'tuple'>\n",
      "(10, 20, 30)\n"
     ]
    }
   ],
   "source": [
    "def func(*a):\n",
    "    return a \n",
    "print(type(func(10)))\n",
    "print(func(10,20,30))"
   ]
  },
  {
   "cell_type": "code",
   "execution_count": 6,
   "metadata": {},
   "outputs": [
    {
     "name": "stdout",
     "output_type": "stream",
     "text": [
      "<class 'dict'>\n",
      "{'a': 10, 'b': 20, 'c': 20}\n"
     ]
    }
   ],
   "source": [
    "def func(**a):\n",
    "    return a \n",
    "# print(type(func(10,20,20)))           ERROR\n",
    "print(type(func(a=10,b=20,c=20)))\n",
    "print(func(a=10,b=20,c=20))"
   ]
  },
  {
   "cell_type": "code",
   "execution_count": 10,
   "metadata": {},
   "outputs": [
    {
     "data": {
      "text/plain": [
       "tuple"
      ]
     },
     "execution_count": 10,
     "metadata": {},
     "output_type": "execute_result"
    }
   ],
   "source": [
    "t=(10,)     # put a comma at end while defining tuple(good practice) to not have ambiguity that it is function call\n",
    "type(t)"
   ]
  },
  {
   "cell_type": "code",
   "execution_count": 3,
   "metadata": {},
   "outputs": [
    {
     "name": "stdout",
     "output_type": "stream",
     "text": [
      "30\n",
      "<class 'function'>\n",
      "hello\n",
      "helloooo\n"
     ]
    }
   ],
   "source": [
    "# In Python, functions are first-class objects, meaning they can be assigned to variables, passed as arguments, and returned from other functions\n",
    "# assigned to variables\n",
    "def summ(a,b):\n",
    "    return a+b\n",
    "p=summ\n",
    "print(p(10,20))\n",
    "print(type(p))\n",
    "\n",
    "# returned from other functions\n",
    "def f1():\n",
    "    def f2():\n",
    "        return \"hello\"\n",
    "    return f2()\n",
    "print(f1())\n",
    "# def f1():\n",
    "#     def f2():\n",
    "#         return \"hello\"\n",
    "#     return f2\n",
    "# print(f1()())\n",
    "\n",
    "# passed as arguments\n",
    "def f1():\n",
    "    print(\"helloooo\")\n",
    "def f2(fun):        # this func is called as Decorator\n",
    "    return fun()\n",
    "f2(f1)"
   ]
  },
  {
   "cell_type": "code",
   "execution_count": 34,
   "metadata": {},
   "outputs": [
    {
     "name": "stdout",
     "output_type": "stream",
     "text": [
      "10\n"
     ]
    }
   ],
   "source": [
    "def f1(a):      #outer func\n",
    "    def f2():   #inner func\n",
    "        print(a)\n",
    "    return f2()\n",
    "f1(10)\n",
    "# A closure is created when a function (the inner function) is defined within another function (the outer function) and the inner function references variables from the outer function. Closures are useful when you need a function to retain state across multiple calls, without using global variables."
   ]
  },
  {
   "cell_type": "code",
   "execution_count": 37,
   "metadata": {},
   "outputs": [
    {
     "name": "stdout",
     "output_type": "stream",
     "text": [
      "20\n"
     ]
    }
   ],
   "source": [
    "# data=10\n",
    "# def f1():\n",
    "#     data+=10\n",
    "#     return data\n",
    "# print(f1())\n",
    "data=10\n",
    "def f1():\n",
    "    global data     # NECESSARY\n",
    "    data+=10\n",
    "    return data\n",
    "print(f1())"
   ]
  },
  {
   "cell_type": "code",
   "execution_count": 4,
   "metadata": {},
   "outputs": [
    {
     "name": "stdout",
     "output_type": "stream",
     "text": [
      "<list_iterator object at 0x000002063D24EDD0>\n",
      "1\n",
      "2\n",
      "3\n",
      "4\n",
      "5\n"
     ]
    }
   ],
   "source": [
    "# iterator\n",
    "l=[1,2,3,4,5]\n",
    "i=iter(l)\n",
    "print(i)\n",
    "print(next(i))\n",
    "print(next(i))\n",
    "print(next(i))\n",
    "print(next(i))\n",
    "print(next(i))\n",
    "# print(next(i))"
   ]
  },
  {
   "cell_type": "code",
   "execution_count": 5,
   "metadata": {},
   "outputs": [
    {
     "name": "stdout",
     "output_type": "stream",
     "text": [
      "a\n",
      "e\n",
      "i\n",
      "o\n",
      "u\n"
     ]
    }
   ],
   "source": [
    "#generator (creating own iterator)\n",
    "def gen():\n",
    "    yield 'a'\n",
    "    yield 'e'\n",
    "    yield 'i'\n",
    "    yield 'o'\n",
    "    yield 'u'\n",
    "g=gen()\n",
    "print(next(g))\n",
    "print(next(g))\n",
    "print(next(g))\n",
    "print(next(g))\n",
    "print(next(g))"
   ]
  },
  {
   "cell_type": "code",
   "execution_count": 8,
   "metadata": {},
   "outputs": [
    {
     "name": "stdout",
     "output_type": "stream",
     "text": [
      "<generator object <genexpr> at 0x000002063D0C7040>\n",
      "0\n",
      "1\n"
     ]
    }
   ],
   "source": [
    "g = (i for i in range(10))\n",
    "print(g)\n",
    "print(next(g))\n",
    "print(next(g))"
   ]
  },
  {
   "cell_type": "code",
   "execution_count": 13,
   "metadata": {},
   "outputs": [
    {
     "name": "stdout",
     "output_type": "stream",
     "text": [
      "120\n",
      "248\n",
      "192\n",
      "192\n"
     ]
    }
   ],
   "source": [
    "import sys\n",
    "l=[i for i in range(5)]     #list\n",
    "l1=[i for i in range(20)]\n",
    "g=(i for i in range(5))     #generator\n",
    "g1=(i for i in range(20))\n",
    "print(sys.getsizeof(l))\n",
    "print(sys.getsizeof(l1))\n",
    "print(sys.getsizeof(g))\n",
    "print(sys.getsizeof(g1))    #it is irrespective of range as the memory is same and updated(like iterator)"
   ]
  },
  {
   "cell_type": "code",
   "execution_count": 17,
   "metadata": {},
   "outputs": [
    {
     "data": {
      "text/plain": [
       "10"
      ]
     },
     "execution_count": 17,
     "metadata": {},
     "output_type": "execute_result"
    }
   ],
   "source": [
    "a=10\n",
    "def func(a):\n",
    "    a+=10\n",
    "func(a)\n",
    "a           # as call by value(bcz it is immutable)"
   ]
  },
  {
   "cell_type": "code",
   "execution_count": 18,
   "metadata": {},
   "outputs": [
    {
     "data": {
      "text/plain": [
       "[10, 20, 30]"
      ]
     },
     "execution_count": 18,
     "metadata": {},
     "output_type": "execute_result"
    }
   ],
   "source": [
    "a=[10,20]\n",
    "def func(a):\n",
    "    a.append(30)\n",
    "func(a)\n",
    "a           # as call by refernce(bcz list is mutable)"
   ]
  },
  {
   "cell_type": "code",
   "execution_count": 1,
   "metadata": {},
   "outputs": [
    {
     "name": "stdout",
     "output_type": "stream",
     "text": [
      "10 20\n"
     ]
    }
   ],
   "source": [
    "def o(a):\n",
    "    def i(b):\n",
    "        print(a,b)\n",
    "    return i\n",
    "o(10)(20)           # outer then inner"
   ]
  },
  {
   "cell_type": "code",
   "execution_count": 9,
   "metadata": {},
   "outputs": [
    {
     "name": "stdout",
     "output_type": "stream",
     "text": [
      "30\n"
     ]
    }
   ],
   "source": [
    "def f1(x,y):\n",
    "    return x+y\n",
    "def f2(fun,x,y):\n",
    "    return fun(x,y)\n",
    "a=10\n",
    "b=20\n",
    "print(f2(f1,a,b))"
   ]
  },
  {
   "cell_type": "code",
   "execution_count": 19,
   "metadata": {},
   "outputs": [
    {
     "name": "stdout",
     "output_type": "stream",
     "text": [
      "hello\n",
      "FIL\n",
      "end\n"
     ]
    }
   ],
   "source": [
    "def f1(fun):\n",
    "    def wrapper():\n",
    "        print(\"hello\")\n",
    "        fun()\n",
    "        print(\"end\")\n",
    "    return wrapper()\n",
    "\n",
    "# def f2():       #decorator\n",
    "#     print(\"Lakshay\")\n",
    "# f1(f2)\n",
    "\n",
    "@f1             #decorator (other way of calling)\n",
    "def f3():\n",
    "    print(\"FIL\")"
   ]
  },
  {
   "cell_type": "code",
   "execution_count": 30,
   "metadata": {},
   "outputs": [
    {
     "name": "stdout",
     "output_type": "stream",
     "text": [
      "hello\n",
      "30\n",
      "end\n"
     ]
    }
   ],
   "source": [
    "def f1(fun):\n",
    "    def wrapper(*x,**y):\n",
    "        print(\"hello\")\n",
    "        print(fun(x[0],x[1]))\n",
    "        print(\"end\")\n",
    "    return wrapper\n",
    "a=10\n",
    "b=20\n",
    "\n",
    "def f2(x,y):\n",
    "    return (x+y)\n",
    "\n",
    "f1(f2)(a,b)"
   ]
  },
  {
   "cell_type": "code",
   "execution_count": 32,
   "metadata": {},
   "outputs": [
    {
     "name": "stdout",
     "output_type": "stream",
     "text": [
      "[1, 2]\n"
     ]
    }
   ],
   "source": [
    "l=[1,2,\"hi\"]\n",
    "\n",
    "def segregate(l):\n",
    "    return [i for i in l if isinstance(i, int)]\n",
    "\n",
    "print(segregate(l))"
   ]
  }
 ],
 "metadata": {
  "kernelspec": {
   "display_name": "Python 3",
   "language": "python",
   "name": "python3"
  },
  "language_info": {
   "codemirror_mode": {
    "name": "ipython",
    "version": 3
   },
   "file_extension": ".py",
   "mimetype": "text/x-python",
   "name": "python",
   "nbconvert_exporter": "python",
   "pygments_lexer": "ipython3",
   "version": "3.12.3"
  }
 },
 "nbformat": 4,
 "nbformat_minor": 2
}
